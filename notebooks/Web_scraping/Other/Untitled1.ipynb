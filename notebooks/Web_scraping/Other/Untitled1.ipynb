{
 "cells": [
  {
   "cell_type": "code",
   "execution_count": 9,
   "id": "ca209e26",
   "metadata": {},
   "outputs": [],
   "source": [
    "def valuation_cleaner(x):\n",
    "    a = x.split(\"”\")\n",
    "    return a[1]"
   ]
  },
  {
   "cell_type": "code",
   "execution_count": 10,
   "id": "64701d4d",
   "metadata": {},
   "outputs": [
    {
     "data": {
      "text/plain": [
       "'22m'"
      ]
     },
     "execution_count": 10,
     "metadata": {},
     "output_type": "execute_result"
    }
   ],
   "source": [
    "valuation_cleaner(\"â‚¬14â€”22m\")"
   ]
  },
  {
   "cell_type": "code",
   "execution_count": 12,
   "id": "a4196a08",
   "metadata": {},
   "outputs": [],
   "source": [
    "def integer_converter(x):\n",
    "    if \"k\" in x:\n",
    "        valuation = x.replace(\"k\",\"\")\n",
    "        return int(valuation)/1000\n",
    "    elif \"m\" in x:\n",
    "        valuation = x.replace(\"m\",\"\")\n",
    "        return int(valuation)\n",
    "    elif \"b\" in x:\n",
    "        valuation = x.replace(\"b\",\"\")\n",
    "        return int(valuation)*1000"
   ]
  },
  {
   "cell_type": "code",
   "execution_count": null,
   "id": "a04d37b8",
   "metadata": {},
   "outputs": [],
   "source": []
  }
 ],
 "metadata": {
  "kernelspec": {
   "display_name": "ironhack",
   "language": "python",
   "name": "ironhack"
  },
  "language_info": {
   "codemirror_mode": {
    "name": "ipython",
    "version": 3
   },
   "file_extension": ".py",
   "mimetype": "text/x-python",
   "name": "python",
   "nbconvert_exporter": "python",
   "pygments_lexer": "ipython3",
   "version": "3.8.10"
  }
 },
 "nbformat": 4,
 "nbformat_minor": 5
}
