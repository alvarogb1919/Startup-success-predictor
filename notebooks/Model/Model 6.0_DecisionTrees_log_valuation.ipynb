{
 "cells": [
  {
   "cell_type": "markdown",
   "id": "3c2f2bf0",
   "metadata": {},
   "source": [
    "### Let's train another model but this time let's use the log(10) of the valuation as the predictor. That way it will estimate the number of digits in the valuation instead of the absolute valuation, which is more appropriate"
   ]
  },
  {
   "cell_type": "markdown",
   "id": "8dff6f6d",
   "metadata": {},
   "source": [
    "### In this case we will build a several decision trees via different methods and I will use MSE as the main metric to compare them"
   ]
  },
  {
   "cell_type": "code",
   "execution_count": 1,
   "id": "3f6933ea",
   "metadata": {},
   "outputs": [],
   "source": [
    "import pandas as pd"
   ]
  },
  {
   "cell_type": "code",
   "execution_count": 2,
   "id": "c577c664",
   "metadata": {},
   "outputs": [],
   "source": [
    "pd.set_option(\"display.max_columns\", None)\n",
    "startups = pd.read_csv(\"../../notebooks/Web_scraping/datasets/startups_with_valuation_temp.csv\")"
   ]
  },
  {
   "cell_type": "code",
   "execution_count": 3,
   "id": "2d75f21b",
   "metadata": {},
   "outputs": [
    {
     "data": {
      "text/html": [
       "<div>\n",
       "<style scoped>\n",
       "    .dataframe tbody tr th:only-of-type {\n",
       "        vertical-align: middle;\n",
       "    }\n",
       "\n",
       "    .dataframe tbody tr th {\n",
       "        vertical-align: top;\n",
       "    }\n",
       "\n",
       "    .dataframe thead th {\n",
       "        text-align: right;\n",
       "    }\n",
       "</style>\n",
       "<table border=\"1\" class=\"dataframe\">\n",
       "  <thead>\n",
       "    <tr style=\"text-align: right;\">\n",
       "      <th></th>\n",
       "      <th>Unnamed: 0</th>\n",
       "      <th>permalink</th>\n",
       "      <th>name</th>\n",
       "      <th>market</th>\n",
       "      <th>funding_total_usd</th>\n",
       "      <th>status</th>\n",
       "      <th>country_code</th>\n",
       "      <th>city</th>\n",
       "      <th>funding_rounds</th>\n",
       "      <th>founded_at</th>\n",
       "      <th>founded_year</th>\n",
       "      <th>first_funding_at</th>\n",
       "      <th>last_funding_at</th>\n",
       "      <th>seed</th>\n",
       "      <th>venture</th>\n",
       "      <th>equity_crowdfunding</th>\n",
       "      <th>convertible_note</th>\n",
       "      <th>debt_financing</th>\n",
       "      <th>angel</th>\n",
       "      <th>grant</th>\n",
       "      <th>private_equity</th>\n",
       "      <th>post_ipo_equity</th>\n",
       "      <th>post_ipo_debt</th>\n",
       "      <th>secondary_market</th>\n",
       "      <th>product_crowdfunding</th>\n",
       "      <th>round_A</th>\n",
       "      <th>round_B</th>\n",
       "      <th>round_C</th>\n",
       "      <th>round_D</th>\n",
       "      <th>round_E</th>\n",
       "      <th>round_F</th>\n",
       "      <th>round_G</th>\n",
       "      <th>round_H</th>\n",
       "      <th>delta_founded_vs_firstfunding</th>\n",
       "      <th>valuation</th>\n",
       "    </tr>\n",
       "  </thead>\n",
       "  <tbody>\n",
       "    <tr>\n",
       "      <th>0</th>\n",
       "      <td>0</td>\n",
       "      <td>/organization/waywire</td>\n",
       "      <td>#waywire</td>\n",
       "      <td>News</td>\n",
       "      <td>1750000</td>\n",
       "      <td>acquired</td>\n",
       "      <td>USA</td>\n",
       "      <td>New York</td>\n",
       "      <td>1.0</td>\n",
       "      <td>2012-06-01</td>\n",
       "      <td>2012.0</td>\n",
       "      <td>2012-06-30</td>\n",
       "      <td>2012-06-30</td>\n",
       "      <td>1750000.0</td>\n",
       "      <td>0.0</td>\n",
       "      <td>0.0</td>\n",
       "      <td>0.0</td>\n",
       "      <td>0.0</td>\n",
       "      <td>0.0</td>\n",
       "      <td>0.0</td>\n",
       "      <td>0.0</td>\n",
       "      <td>0.0</td>\n",
       "      <td>0.0</td>\n",
       "      <td>0.0</td>\n",
       "      <td>0.0</td>\n",
       "      <td>0.0</td>\n",
       "      <td>0.0</td>\n",
       "      <td>0.0</td>\n",
       "      <td>0.0</td>\n",
       "      <td>0.0</td>\n",
       "      <td>0.0</td>\n",
       "      <td>0.0</td>\n",
       "      <td>0.0</td>\n",
       "      <td>29.0</td>\n",
       "      <td>NaN</td>\n",
       "    </tr>\n",
       "    <tr>\n",
       "      <th>1</th>\n",
       "      <td>3</td>\n",
       "      <td>/organization/in-touch-network</td>\n",
       "      <td>(In)Touch Network</td>\n",
       "      <td>Electronics</td>\n",
       "      <td>1500000</td>\n",
       "      <td>operating</td>\n",
       "      <td>GBR</td>\n",
       "      <td>London</td>\n",
       "      <td>1.0</td>\n",
       "      <td>2011-04-01</td>\n",
       "      <td>2011.0</td>\n",
       "      <td>2011-04-01</td>\n",
       "      <td>2011-04-01</td>\n",
       "      <td>1500000.0</td>\n",
       "      <td>0.0</td>\n",
       "      <td>0.0</td>\n",
       "      <td>0.0</td>\n",
       "      <td>0.0</td>\n",
       "      <td>0.0</td>\n",
       "      <td>0.0</td>\n",
       "      <td>0.0</td>\n",
       "      <td>0.0</td>\n",
       "      <td>0.0</td>\n",
       "      <td>0.0</td>\n",
       "      <td>0.0</td>\n",
       "      <td>0.0</td>\n",
       "      <td>0.0</td>\n",
       "      <td>0.0</td>\n",
       "      <td>0.0</td>\n",
       "      <td>0.0</td>\n",
       "      <td>0.0</td>\n",
       "      <td>0.0</td>\n",
       "      <td>0.0</td>\n",
       "      <td>0.0</td>\n",
       "      <td>NaN</td>\n",
       "    </tr>\n",
       "    <tr>\n",
       "      <th>2</th>\n",
       "      <td>4</td>\n",
       "      <td>/organization/r-ranch-and-mine</td>\n",
       "      <td>-R- Ranch and Mine</td>\n",
       "      <td>Tourism</td>\n",
       "      <td>60000</td>\n",
       "      <td>operating</td>\n",
       "      <td>USA</td>\n",
       "      <td>Fort Worth</td>\n",
       "      <td>2.0</td>\n",
       "      <td>2014-01-01</td>\n",
       "      <td>2014.0</td>\n",
       "      <td>2014-08-17</td>\n",
       "      <td>2014-09-26</td>\n",
       "      <td>0.0</td>\n",
       "      <td>0.0</td>\n",
       "      <td>60000.0</td>\n",
       "      <td>0.0</td>\n",
       "      <td>0.0</td>\n",
       "      <td>0.0</td>\n",
       "      <td>0.0</td>\n",
       "      <td>0.0</td>\n",
       "      <td>0.0</td>\n",
       "      <td>0.0</td>\n",
       "      <td>0.0</td>\n",
       "      <td>0.0</td>\n",
       "      <td>0.0</td>\n",
       "      <td>0.0</td>\n",
       "      <td>0.0</td>\n",
       "      <td>0.0</td>\n",
       "      <td>0.0</td>\n",
       "      <td>0.0</td>\n",
       "      <td>0.0</td>\n",
       "      <td>0.0</td>\n",
       "      <td>228.0</td>\n",
       "      <td>NaN</td>\n",
       "    </tr>\n",
       "    <tr>\n",
       "      <th>3</th>\n",
       "      <td>8</td>\n",
       "      <td>/organization/004-technologies</td>\n",
       "      <td>004 Technologies</td>\n",
       "      <td>Software</td>\n",
       "      <td>0</td>\n",
       "      <td>operating</td>\n",
       "      <td>USA</td>\n",
       "      <td>Champaign</td>\n",
       "      <td>1.0</td>\n",
       "      <td>2010-01-01</td>\n",
       "      <td>2010.0</td>\n",
       "      <td>2014-07-24</td>\n",
       "      <td>2014-07-24</td>\n",
       "      <td>0.0</td>\n",
       "      <td>0.0</td>\n",
       "      <td>0.0</td>\n",
       "      <td>0.0</td>\n",
       "      <td>0.0</td>\n",
       "      <td>0.0</td>\n",
       "      <td>0.0</td>\n",
       "      <td>0.0</td>\n",
       "      <td>0.0</td>\n",
       "      <td>0.0</td>\n",
       "      <td>0.0</td>\n",
       "      <td>0.0</td>\n",
       "      <td>0.0</td>\n",
       "      <td>0.0</td>\n",
       "      <td>0.0</td>\n",
       "      <td>0.0</td>\n",
       "      <td>0.0</td>\n",
       "      <td>0.0</td>\n",
       "      <td>0.0</td>\n",
       "      <td>0.0</td>\n",
       "      <td>1665.0</td>\n",
       "      <td>NaN</td>\n",
       "    </tr>\n",
       "    <tr>\n",
       "      <th>4</th>\n",
       "      <td>10</td>\n",
       "      <td>/organization/1-2-3-listo</td>\n",
       "      <td>1,2,3 Listo</td>\n",
       "      <td>E-Commerce</td>\n",
       "      <td>40000</td>\n",
       "      <td>operating</td>\n",
       "      <td>CHL</td>\n",
       "      <td>Las Condes</td>\n",
       "      <td>1.0</td>\n",
       "      <td>2012-01-01</td>\n",
       "      <td>2012.0</td>\n",
       "      <td>2013-02-18</td>\n",
       "      <td>2013-02-18</td>\n",
       "      <td>40000.0</td>\n",
       "      <td>0.0</td>\n",
       "      <td>0.0</td>\n",
       "      <td>0.0</td>\n",
       "      <td>0.0</td>\n",
       "      <td>0.0</td>\n",
       "      <td>0.0</td>\n",
       "      <td>0.0</td>\n",
       "      <td>0.0</td>\n",
       "      <td>0.0</td>\n",
       "      <td>0.0</td>\n",
       "      <td>0.0</td>\n",
       "      <td>0.0</td>\n",
       "      <td>0.0</td>\n",
       "      <td>0.0</td>\n",
       "      <td>0.0</td>\n",
       "      <td>0.0</td>\n",
       "      <td>0.0</td>\n",
       "      <td>0.0</td>\n",
       "      <td>0.0</td>\n",
       "      <td>414.0</td>\n",
       "      <td>NaN</td>\n",
       "    </tr>\n",
       "  </tbody>\n",
       "</table>\n",
       "</div>"
      ],
      "text/plain": [
       "   Unnamed: 0                       permalink                name  \\\n",
       "0           0           /organization/waywire            #waywire   \n",
       "1           3  /organization/in-touch-network   (In)Touch Network   \n",
       "2           4  /organization/r-ranch-and-mine  -R- Ranch and Mine   \n",
       "3           8  /organization/004-technologies    004 Technologies   \n",
       "4          10       /organization/1-2-3-listo         1,2,3 Listo   \n",
       "\n",
       "          market  funding_total_usd     status country_code        city  \\\n",
       "0          News             1750000   acquired          USA    New York   \n",
       "1   Electronics             1500000  operating          GBR      London   \n",
       "2       Tourism               60000  operating          USA  Fort Worth   \n",
       "3      Software                   0  operating          USA   Champaign   \n",
       "4    E-Commerce               40000  operating          CHL  Las Condes   \n",
       "\n",
       "   funding_rounds  founded_at  founded_year first_funding_at last_funding_at  \\\n",
       "0             1.0  2012-06-01        2012.0       2012-06-30      2012-06-30   \n",
       "1             1.0  2011-04-01        2011.0       2011-04-01      2011-04-01   \n",
       "2             2.0  2014-01-01        2014.0       2014-08-17      2014-09-26   \n",
       "3             1.0  2010-01-01        2010.0       2014-07-24      2014-07-24   \n",
       "4             1.0  2012-01-01        2012.0       2013-02-18      2013-02-18   \n",
       "\n",
       "        seed  venture  equity_crowdfunding  convertible_note  debt_financing  \\\n",
       "0  1750000.0      0.0                  0.0               0.0             0.0   \n",
       "1  1500000.0      0.0                  0.0               0.0             0.0   \n",
       "2        0.0      0.0              60000.0               0.0             0.0   \n",
       "3        0.0      0.0                  0.0               0.0             0.0   \n",
       "4    40000.0      0.0                  0.0               0.0             0.0   \n",
       "\n",
       "   angel  grant  private_equity  post_ipo_equity  post_ipo_debt  \\\n",
       "0    0.0    0.0             0.0              0.0            0.0   \n",
       "1    0.0    0.0             0.0              0.0            0.0   \n",
       "2    0.0    0.0             0.0              0.0            0.0   \n",
       "3    0.0    0.0             0.0              0.0            0.0   \n",
       "4    0.0    0.0             0.0              0.0            0.0   \n",
       "\n",
       "   secondary_market  product_crowdfunding  round_A  round_B  round_C  round_D  \\\n",
       "0               0.0                   0.0      0.0      0.0      0.0      0.0   \n",
       "1               0.0                   0.0      0.0      0.0      0.0      0.0   \n",
       "2               0.0                   0.0      0.0      0.0      0.0      0.0   \n",
       "3               0.0                   0.0      0.0      0.0      0.0      0.0   \n",
       "4               0.0                   0.0      0.0      0.0      0.0      0.0   \n",
       "\n",
       "   round_E  round_F  round_G  round_H  delta_founded_vs_firstfunding valuation  \n",
       "0      0.0      0.0      0.0      0.0                           29.0       NaN  \n",
       "1      0.0      0.0      0.0      0.0                            0.0       NaN  \n",
       "2      0.0      0.0      0.0      0.0                          228.0       NaN  \n",
       "3      0.0      0.0      0.0      0.0                         1665.0       NaN  \n",
       "4      0.0      0.0      0.0      0.0                          414.0       NaN  "
      ]
     },
     "execution_count": 3,
     "metadata": {},
     "output_type": "execute_result"
    }
   ],
   "source": [
    "startups.head()"
   ]
  },
  {
   "cell_type": "code",
   "execution_count": 4,
   "id": "2d4508b7",
   "metadata": {},
   "outputs": [
    {
     "data": {
      "text/plain": [
       "(30491, 35)"
      ]
     },
     "execution_count": 4,
     "metadata": {},
     "output_type": "execute_result"
    }
   ],
   "source": [
    "startups.shape"
   ]
  },
  {
   "cell_type": "code",
   "execution_count": 5,
   "id": "1b81d595",
   "metadata": {},
   "outputs": [],
   "source": [
    "startups = startups[startups[\"valuation\"].notnull()]"
   ]
  },
  {
   "cell_type": "code",
   "execution_count": 6,
   "id": "23e681da",
   "metadata": {},
   "outputs": [
    {
     "data": {
      "text/plain": [
       "(19809, 35)"
      ]
     },
     "execution_count": 6,
     "metadata": {},
     "output_type": "execute_result"
    }
   ],
   "source": [
    "startups.shape"
   ]
  },
  {
   "cell_type": "code",
   "execution_count": 7,
   "id": "878f8f61",
   "metadata": {},
   "outputs": [],
   "source": [
    "def valuation_cleaner(x):\n",
    "    if \"—\" in x:\n",
    "        a = x.split(\"—\")\n",
    "        return a[1]\n",
    "    else:\n",
    "        return x"
   ]
  },
  {
   "cell_type": "code",
   "execution_count": 8,
   "id": "d33d2eda",
   "metadata": {},
   "outputs": [],
   "source": [
    "startups[\"valuation\"] = startups[\"valuation\"].apply(valuation_cleaner) "
   ]
  },
  {
   "cell_type": "code",
   "execution_count": 9,
   "id": "598ebe94",
   "metadata": {},
   "outputs": [
    {
     "data": {
      "text/html": [
       "<div>\n",
       "<style scoped>\n",
       "    .dataframe tbody tr th:only-of-type {\n",
       "        vertical-align: middle;\n",
       "    }\n",
       "\n",
       "    .dataframe tbody tr th {\n",
       "        vertical-align: top;\n",
       "    }\n",
       "\n",
       "    .dataframe thead th {\n",
       "        text-align: right;\n",
       "    }\n",
       "</style>\n",
       "<table border=\"1\" class=\"dataframe\">\n",
       "  <thead>\n",
       "    <tr style=\"text-align: right;\">\n",
       "      <th></th>\n",
       "      <th>Unnamed: 0</th>\n",
       "      <th>permalink</th>\n",
       "      <th>name</th>\n",
       "      <th>market</th>\n",
       "      <th>funding_total_usd</th>\n",
       "      <th>status</th>\n",
       "      <th>country_code</th>\n",
       "      <th>city</th>\n",
       "      <th>funding_rounds</th>\n",
       "      <th>founded_at</th>\n",
       "      <th>founded_year</th>\n",
       "      <th>first_funding_at</th>\n",
       "      <th>last_funding_at</th>\n",
       "      <th>seed</th>\n",
       "      <th>venture</th>\n",
       "      <th>equity_crowdfunding</th>\n",
       "      <th>convertible_note</th>\n",
       "      <th>debt_financing</th>\n",
       "      <th>angel</th>\n",
       "      <th>grant</th>\n",
       "      <th>private_equity</th>\n",
       "      <th>post_ipo_equity</th>\n",
       "      <th>post_ipo_debt</th>\n",
       "      <th>secondary_market</th>\n",
       "      <th>product_crowdfunding</th>\n",
       "      <th>round_A</th>\n",
       "      <th>round_B</th>\n",
       "      <th>round_C</th>\n",
       "      <th>round_D</th>\n",
       "      <th>round_E</th>\n",
       "      <th>round_F</th>\n",
       "      <th>round_G</th>\n",
       "      <th>round_H</th>\n",
       "      <th>delta_founded_vs_firstfunding</th>\n",
       "      <th>valuation</th>\n",
       "    </tr>\n",
       "  </thead>\n",
       "  <tbody>\n",
       "    <tr>\n",
       "      <th>8</th>\n",
       "      <td>15</td>\n",
       "      <td>/organization/10-minutes-with</td>\n",
       "      <td>10 Minutes With</td>\n",
       "      <td>Education</td>\n",
       "      <td>4400000</td>\n",
       "      <td>operating</td>\n",
       "      <td>GBR</td>\n",
       "      <td>London</td>\n",
       "      <td>2.0</td>\n",
       "      <td>2013-01-01</td>\n",
       "      <td>2013.0</td>\n",
       "      <td>2013-01-01</td>\n",
       "      <td>2014-10-09</td>\n",
       "      <td>400000.0</td>\n",
       "      <td>4000000.0</td>\n",
       "      <td>0.0</td>\n",
       "      <td>0.0</td>\n",
       "      <td>0.0</td>\n",
       "      <td>0.0</td>\n",
       "      <td>0.0</td>\n",
       "      <td>0.0</td>\n",
       "      <td>0.0</td>\n",
       "      <td>0.0</td>\n",
       "      <td>0.0</td>\n",
       "      <td>0.0</td>\n",
       "      <td>4000000.0</td>\n",
       "      <td>0.0</td>\n",
       "      <td>0.0</td>\n",
       "      <td>0.0</td>\n",
       "      <td>0.0</td>\n",
       "      <td>0.0</td>\n",
       "      <td>0.0</td>\n",
       "      <td>0.0</td>\n",
       "      <td>0.0</td>\n",
       "      <td>22m</td>\n",
       "    </tr>\n",
       "    <tr>\n",
       "      <th>10</th>\n",
       "      <td>17</td>\n",
       "      <td>/organization/1000-corks</td>\n",
       "      <td>1000 Corks</td>\n",
       "      <td>Search</td>\n",
       "      <td>40000</td>\n",
       "      <td>operating</td>\n",
       "      <td>USA</td>\n",
       "      <td>Lake Oswego</td>\n",
       "      <td>1.0</td>\n",
       "      <td>2008-01-01</td>\n",
       "      <td>2008.0</td>\n",
       "      <td>2011-08-23</td>\n",
       "      <td>2011-08-23</td>\n",
       "      <td>40000.0</td>\n",
       "      <td>0.0</td>\n",
       "      <td>0.0</td>\n",
       "      <td>0.0</td>\n",
       "      <td>0.0</td>\n",
       "      <td>0.0</td>\n",
       "      <td>0.0</td>\n",
       "      <td>0.0</td>\n",
       "      <td>0.0</td>\n",
       "      <td>0.0</td>\n",
       "      <td>0.0</td>\n",
       "      <td>0.0</td>\n",
       "      <td>0.0</td>\n",
       "      <td>0.0</td>\n",
       "      <td>0.0</td>\n",
       "      <td>0.0</td>\n",
       "      <td>0.0</td>\n",
       "      <td>0.0</td>\n",
       "      <td>0.0</td>\n",
       "      <td>0.0</td>\n",
       "      <td>1330.0</td>\n",
       "      <td>218k</td>\n",
       "    </tr>\n",
       "    <tr>\n",
       "      <th>15</th>\n",
       "      <td>27</td>\n",
       "      <td>/organization/100plus</td>\n",
       "      <td>100Plus</td>\n",
       "      <td>Analytics</td>\n",
       "      <td>1250000</td>\n",
       "      <td>acquired</td>\n",
       "      <td>USA</td>\n",
       "      <td>San Francisco</td>\n",
       "      <td>2.0</td>\n",
       "      <td>2011-09-16</td>\n",
       "      <td>2011.0</td>\n",
       "      <td>2011-11-02</td>\n",
       "      <td>2011-11-30</td>\n",
       "      <td>750000.0</td>\n",
       "      <td>500000.0</td>\n",
       "      <td>0.0</td>\n",
       "      <td>0.0</td>\n",
       "      <td>0.0</td>\n",
       "      <td>0.0</td>\n",
       "      <td>0.0</td>\n",
       "      <td>0.0</td>\n",
       "      <td>0.0</td>\n",
       "      <td>0.0</td>\n",
       "      <td>0.0</td>\n",
       "      <td>0.0</td>\n",
       "      <td>0.0</td>\n",
       "      <td>0.0</td>\n",
       "      <td>0.0</td>\n",
       "      <td>0.0</td>\n",
       "      <td>0.0</td>\n",
       "      <td>0.0</td>\n",
       "      <td>0.0</td>\n",
       "      <td>0.0</td>\n",
       "      <td>47.0</td>\n",
       "      <td>136m</td>\n",
       "    </tr>\n",
       "    <tr>\n",
       "      <th>16</th>\n",
       "      <td>28</td>\n",
       "      <td>/organization/1010data</td>\n",
       "      <td>1010data</td>\n",
       "      <td>Software</td>\n",
       "      <td>35000000</td>\n",
       "      <td>operating</td>\n",
       "      <td>USA</td>\n",
       "      <td>New York</td>\n",
       "      <td>1.0</td>\n",
       "      <td>2000-01-01</td>\n",
       "      <td>2000.0</td>\n",
       "      <td>2010-03-08</td>\n",
       "      <td>2010-03-08</td>\n",
       "      <td>0.0</td>\n",
       "      <td>35000000.0</td>\n",
       "      <td>0.0</td>\n",
       "      <td>0.0</td>\n",
       "      <td>0.0</td>\n",
       "      <td>0.0</td>\n",
       "      <td>0.0</td>\n",
       "      <td>0.0</td>\n",
       "      <td>0.0</td>\n",
       "      <td>0.0</td>\n",
       "      <td>0.0</td>\n",
       "      <td>0.0</td>\n",
       "      <td>0.0</td>\n",
       "      <td>0.0</td>\n",
       "      <td>0.0</td>\n",
       "      <td>0.0</td>\n",
       "      <td>0.0</td>\n",
       "      <td>0.0</td>\n",
       "      <td>0.0</td>\n",
       "      <td>0.0</td>\n",
       "      <td>3719.0</td>\n",
       "      <td>210m</td>\n",
       "    </tr>\n",
       "    <tr>\n",
       "      <th>18</th>\n",
       "      <td>30</td>\n",
       "      <td>/organization/10bestthings</td>\n",
       "      <td>10BestThings</td>\n",
       "      <td>Curated Web</td>\n",
       "      <td>50000</td>\n",
       "      <td>closed</td>\n",
       "      <td>USA</td>\n",
       "      <td>Cleveland</td>\n",
       "      <td>1.0</td>\n",
       "      <td>2009-04-01</td>\n",
       "      <td>2009.0</td>\n",
       "      <td>2009-04-01</td>\n",
       "      <td>2009-04-01</td>\n",
       "      <td>50000.0</td>\n",
       "      <td>0.0</td>\n",
       "      <td>0.0</td>\n",
       "      <td>0.0</td>\n",
       "      <td>0.0</td>\n",
       "      <td>0.0</td>\n",
       "      <td>0.0</td>\n",
       "      <td>0.0</td>\n",
       "      <td>0.0</td>\n",
       "      <td>0.0</td>\n",
       "      <td>0.0</td>\n",
       "      <td>0.0</td>\n",
       "      <td>0.0</td>\n",
       "      <td>0.0</td>\n",
       "      <td>0.0</td>\n",
       "      <td>0.0</td>\n",
       "      <td>0.0</td>\n",
       "      <td>0.0</td>\n",
       "      <td>0.0</td>\n",
       "      <td>0.0</td>\n",
       "      <td>0.0</td>\n",
       "      <td>273k</td>\n",
       "    </tr>\n",
       "  </tbody>\n",
       "</table>\n",
       "</div>"
      ],
      "text/plain": [
       "    Unnamed: 0                      permalink             name         market  \\\n",
       "8           15  /organization/10-minutes-with  10 Minutes With     Education    \n",
       "10          17       /organization/1000-corks       1000 Corks        Search    \n",
       "15          27          /organization/100plus          100Plus     Analytics    \n",
       "16          28         /organization/1010data         1010data      Software    \n",
       "18          30     /organization/10bestthings     10BestThings   Curated Web    \n",
       "\n",
       "    funding_total_usd     status country_code           city  funding_rounds  \\\n",
       "8             4400000  operating          GBR         London             2.0   \n",
       "10              40000  operating          USA    Lake Oswego             1.0   \n",
       "15            1250000   acquired          USA  San Francisco             2.0   \n",
       "16           35000000  operating          USA       New York             1.0   \n",
       "18              50000     closed          USA      Cleveland             1.0   \n",
       "\n",
       "    founded_at  founded_year first_funding_at last_funding_at      seed  \\\n",
       "8   2013-01-01        2013.0       2013-01-01      2014-10-09  400000.0   \n",
       "10  2008-01-01        2008.0       2011-08-23      2011-08-23   40000.0   \n",
       "15  2011-09-16        2011.0       2011-11-02      2011-11-30  750000.0   \n",
       "16  2000-01-01        2000.0       2010-03-08      2010-03-08       0.0   \n",
       "18  2009-04-01        2009.0       2009-04-01      2009-04-01   50000.0   \n",
       "\n",
       "       venture  equity_crowdfunding  convertible_note  debt_financing  angel  \\\n",
       "8    4000000.0                  0.0               0.0             0.0    0.0   \n",
       "10         0.0                  0.0               0.0             0.0    0.0   \n",
       "15    500000.0                  0.0               0.0             0.0    0.0   \n",
       "16  35000000.0                  0.0               0.0             0.0    0.0   \n",
       "18         0.0                  0.0               0.0             0.0    0.0   \n",
       "\n",
       "    grant  private_equity  post_ipo_equity  post_ipo_debt  secondary_market  \\\n",
       "8     0.0             0.0              0.0            0.0               0.0   \n",
       "10    0.0             0.0              0.0            0.0               0.0   \n",
       "15    0.0             0.0              0.0            0.0               0.0   \n",
       "16    0.0             0.0              0.0            0.0               0.0   \n",
       "18    0.0             0.0              0.0            0.0               0.0   \n",
       "\n",
       "    product_crowdfunding    round_A  round_B  round_C  round_D  round_E  \\\n",
       "8                    0.0  4000000.0      0.0      0.0      0.0      0.0   \n",
       "10                   0.0        0.0      0.0      0.0      0.0      0.0   \n",
       "15                   0.0        0.0      0.0      0.0      0.0      0.0   \n",
       "16                   0.0        0.0      0.0      0.0      0.0      0.0   \n",
       "18                   0.0        0.0      0.0      0.0      0.0      0.0   \n",
       "\n",
       "    round_F  round_G  round_H  delta_founded_vs_firstfunding valuation  \n",
       "8       0.0      0.0      0.0                            0.0       22m  \n",
       "10      0.0      0.0      0.0                         1330.0      218k  \n",
       "15      0.0      0.0      0.0                           47.0      136m  \n",
       "16      0.0      0.0      0.0                         3719.0      210m  \n",
       "18      0.0      0.0      0.0                            0.0      273k  "
      ]
     },
     "execution_count": 9,
     "metadata": {},
     "output_type": "execute_result"
    }
   ],
   "source": [
    "startups.head()"
   ]
  },
  {
   "cell_type": "markdown",
   "id": "fb570fa8",
   "metadata": {},
   "source": [
    "### Given that we want all the values to be consistent let's show all valuations absolute units"
   ]
  },
  {
   "cell_type": "code",
   "execution_count": 10,
   "id": "41266ec6",
   "metadata": {},
   "outputs": [],
   "source": [
    "def integer_converter(x):\n",
    "    if \"k\" in x:\n",
    "        valuation = x.replace(\"k\",\"\")\n",
    "        valuation_clean = valuation.replace(\"€\",\"\")\n",
    "        return round(float(valuation_clean)*1000)\n",
    "    elif \"m\" in x:\n",
    "        valuation = x.replace(\"m\",\"\")\n",
    "        valuation_clean = valuation.replace(\"€\",\"\")\n",
    "        return round(float(valuation_clean)*1000000)\n",
    "    elif \"b\" in x:\n",
    "        valuation = x.replace(\"b\",\"\")\n",
    "        valuation_clean = valuation.replace(\"€\",\"\")\n",
    "        return round(float(valuation_clean)*1000000000)"
   ]
  },
  {
   "cell_type": "code",
   "execution_count": 11,
   "id": "220d978f",
   "metadata": {},
   "outputs": [],
   "source": [
    "startups[\"valuation\"] = startups[\"valuation\"].apply(integer_converter) "
   ]
  },
  {
   "cell_type": "code",
   "execution_count": 12,
   "id": "038f2da5",
   "metadata": {},
   "outputs": [
    {
     "data": {
      "text/html": [
       "<div>\n",
       "<style scoped>\n",
       "    .dataframe tbody tr th:only-of-type {\n",
       "        vertical-align: middle;\n",
       "    }\n",
       "\n",
       "    .dataframe tbody tr th {\n",
       "        vertical-align: top;\n",
       "    }\n",
       "\n",
       "    .dataframe thead th {\n",
       "        text-align: right;\n",
       "    }\n",
       "</style>\n",
       "<table border=\"1\" class=\"dataframe\">\n",
       "  <thead>\n",
       "    <tr style=\"text-align: right;\">\n",
       "      <th></th>\n",
       "      <th>Unnamed: 0</th>\n",
       "      <th>permalink</th>\n",
       "      <th>name</th>\n",
       "      <th>market</th>\n",
       "      <th>funding_total_usd</th>\n",
       "      <th>status</th>\n",
       "      <th>country_code</th>\n",
       "      <th>city</th>\n",
       "      <th>funding_rounds</th>\n",
       "      <th>founded_at</th>\n",
       "      <th>founded_year</th>\n",
       "      <th>first_funding_at</th>\n",
       "      <th>last_funding_at</th>\n",
       "      <th>seed</th>\n",
       "      <th>venture</th>\n",
       "      <th>equity_crowdfunding</th>\n",
       "      <th>convertible_note</th>\n",
       "      <th>debt_financing</th>\n",
       "      <th>angel</th>\n",
       "      <th>grant</th>\n",
       "      <th>private_equity</th>\n",
       "      <th>post_ipo_equity</th>\n",
       "      <th>post_ipo_debt</th>\n",
       "      <th>secondary_market</th>\n",
       "      <th>product_crowdfunding</th>\n",
       "      <th>round_A</th>\n",
       "      <th>round_B</th>\n",
       "      <th>round_C</th>\n",
       "      <th>round_D</th>\n",
       "      <th>round_E</th>\n",
       "      <th>round_F</th>\n",
       "      <th>round_G</th>\n",
       "      <th>round_H</th>\n",
       "      <th>delta_founded_vs_firstfunding</th>\n",
       "      <th>valuation</th>\n",
       "    </tr>\n",
       "  </thead>\n",
       "  <tbody>\n",
       "    <tr>\n",
       "      <th>8</th>\n",
       "      <td>15</td>\n",
       "      <td>/organization/10-minutes-with</td>\n",
       "      <td>10 Minutes With</td>\n",
       "      <td>Education</td>\n",
       "      <td>4400000</td>\n",
       "      <td>operating</td>\n",
       "      <td>GBR</td>\n",
       "      <td>London</td>\n",
       "      <td>2.0</td>\n",
       "      <td>2013-01-01</td>\n",
       "      <td>2013.0</td>\n",
       "      <td>2013-01-01</td>\n",
       "      <td>2014-10-09</td>\n",
       "      <td>400000.0</td>\n",
       "      <td>4000000.0</td>\n",
       "      <td>0.0</td>\n",
       "      <td>0.0</td>\n",
       "      <td>0.0</td>\n",
       "      <td>0.0</td>\n",
       "      <td>0.0</td>\n",
       "      <td>0.0</td>\n",
       "      <td>0.0</td>\n",
       "      <td>0.0</td>\n",
       "      <td>0.0</td>\n",
       "      <td>0.0</td>\n",
       "      <td>4000000.0</td>\n",
       "      <td>0.0</td>\n",
       "      <td>0.0</td>\n",
       "      <td>0.0</td>\n",
       "      <td>0.0</td>\n",
       "      <td>0.0</td>\n",
       "      <td>0.0</td>\n",
       "      <td>0.0</td>\n",
       "      <td>0.0</td>\n",
       "      <td>22000000.0</td>\n",
       "    </tr>\n",
       "    <tr>\n",
       "      <th>10</th>\n",
       "      <td>17</td>\n",
       "      <td>/organization/1000-corks</td>\n",
       "      <td>1000 Corks</td>\n",
       "      <td>Search</td>\n",
       "      <td>40000</td>\n",
       "      <td>operating</td>\n",
       "      <td>USA</td>\n",
       "      <td>Lake Oswego</td>\n",
       "      <td>1.0</td>\n",
       "      <td>2008-01-01</td>\n",
       "      <td>2008.0</td>\n",
       "      <td>2011-08-23</td>\n",
       "      <td>2011-08-23</td>\n",
       "      <td>40000.0</td>\n",
       "      <td>0.0</td>\n",
       "      <td>0.0</td>\n",
       "      <td>0.0</td>\n",
       "      <td>0.0</td>\n",
       "      <td>0.0</td>\n",
       "      <td>0.0</td>\n",
       "      <td>0.0</td>\n",
       "      <td>0.0</td>\n",
       "      <td>0.0</td>\n",
       "      <td>0.0</td>\n",
       "      <td>0.0</td>\n",
       "      <td>0.0</td>\n",
       "      <td>0.0</td>\n",
       "      <td>0.0</td>\n",
       "      <td>0.0</td>\n",
       "      <td>0.0</td>\n",
       "      <td>0.0</td>\n",
       "      <td>0.0</td>\n",
       "      <td>0.0</td>\n",
       "      <td>1330.0</td>\n",
       "      <td>218000.0</td>\n",
       "    </tr>\n",
       "    <tr>\n",
       "      <th>15</th>\n",
       "      <td>27</td>\n",
       "      <td>/organization/100plus</td>\n",
       "      <td>100Plus</td>\n",
       "      <td>Analytics</td>\n",
       "      <td>1250000</td>\n",
       "      <td>acquired</td>\n",
       "      <td>USA</td>\n",
       "      <td>San Francisco</td>\n",
       "      <td>2.0</td>\n",
       "      <td>2011-09-16</td>\n",
       "      <td>2011.0</td>\n",
       "      <td>2011-11-02</td>\n",
       "      <td>2011-11-30</td>\n",
       "      <td>750000.0</td>\n",
       "      <td>500000.0</td>\n",
       "      <td>0.0</td>\n",
       "      <td>0.0</td>\n",
       "      <td>0.0</td>\n",
       "      <td>0.0</td>\n",
       "      <td>0.0</td>\n",
       "      <td>0.0</td>\n",
       "      <td>0.0</td>\n",
       "      <td>0.0</td>\n",
       "      <td>0.0</td>\n",
       "      <td>0.0</td>\n",
       "      <td>0.0</td>\n",
       "      <td>0.0</td>\n",
       "      <td>0.0</td>\n",
       "      <td>0.0</td>\n",
       "      <td>0.0</td>\n",
       "      <td>0.0</td>\n",
       "      <td>0.0</td>\n",
       "      <td>0.0</td>\n",
       "      <td>47.0</td>\n",
       "      <td>136000000.0</td>\n",
       "    </tr>\n",
       "    <tr>\n",
       "      <th>16</th>\n",
       "      <td>28</td>\n",
       "      <td>/organization/1010data</td>\n",
       "      <td>1010data</td>\n",
       "      <td>Software</td>\n",
       "      <td>35000000</td>\n",
       "      <td>operating</td>\n",
       "      <td>USA</td>\n",
       "      <td>New York</td>\n",
       "      <td>1.0</td>\n",
       "      <td>2000-01-01</td>\n",
       "      <td>2000.0</td>\n",
       "      <td>2010-03-08</td>\n",
       "      <td>2010-03-08</td>\n",
       "      <td>0.0</td>\n",
       "      <td>35000000.0</td>\n",
       "      <td>0.0</td>\n",
       "      <td>0.0</td>\n",
       "      <td>0.0</td>\n",
       "      <td>0.0</td>\n",
       "      <td>0.0</td>\n",
       "      <td>0.0</td>\n",
       "      <td>0.0</td>\n",
       "      <td>0.0</td>\n",
       "      <td>0.0</td>\n",
       "      <td>0.0</td>\n",
       "      <td>0.0</td>\n",
       "      <td>0.0</td>\n",
       "      <td>0.0</td>\n",
       "      <td>0.0</td>\n",
       "      <td>0.0</td>\n",
       "      <td>0.0</td>\n",
       "      <td>0.0</td>\n",
       "      <td>0.0</td>\n",
       "      <td>3719.0</td>\n",
       "      <td>210000000.0</td>\n",
       "    </tr>\n",
       "    <tr>\n",
       "      <th>18</th>\n",
       "      <td>30</td>\n",
       "      <td>/organization/10bestthings</td>\n",
       "      <td>10BestThings</td>\n",
       "      <td>Curated Web</td>\n",
       "      <td>50000</td>\n",
       "      <td>closed</td>\n",
       "      <td>USA</td>\n",
       "      <td>Cleveland</td>\n",
       "      <td>1.0</td>\n",
       "      <td>2009-04-01</td>\n",
       "      <td>2009.0</td>\n",
       "      <td>2009-04-01</td>\n",
       "      <td>2009-04-01</td>\n",
       "      <td>50000.0</td>\n",
       "      <td>0.0</td>\n",
       "      <td>0.0</td>\n",
       "      <td>0.0</td>\n",
       "      <td>0.0</td>\n",
       "      <td>0.0</td>\n",
       "      <td>0.0</td>\n",
       "      <td>0.0</td>\n",
       "      <td>0.0</td>\n",
       "      <td>0.0</td>\n",
       "      <td>0.0</td>\n",
       "      <td>0.0</td>\n",
       "      <td>0.0</td>\n",
       "      <td>0.0</td>\n",
       "      <td>0.0</td>\n",
       "      <td>0.0</td>\n",
       "      <td>0.0</td>\n",
       "      <td>0.0</td>\n",
       "      <td>0.0</td>\n",
       "      <td>0.0</td>\n",
       "      <td>0.0</td>\n",
       "      <td>273000.0</td>\n",
       "    </tr>\n",
       "  </tbody>\n",
       "</table>\n",
       "</div>"
      ],
      "text/plain": [
       "    Unnamed: 0                      permalink             name         market  \\\n",
       "8           15  /organization/10-minutes-with  10 Minutes With     Education    \n",
       "10          17       /organization/1000-corks       1000 Corks        Search    \n",
       "15          27          /organization/100plus          100Plus     Analytics    \n",
       "16          28         /organization/1010data         1010data      Software    \n",
       "18          30     /organization/10bestthings     10BestThings   Curated Web    \n",
       "\n",
       "    funding_total_usd     status country_code           city  funding_rounds  \\\n",
       "8             4400000  operating          GBR         London             2.0   \n",
       "10              40000  operating          USA    Lake Oswego             1.0   \n",
       "15            1250000   acquired          USA  San Francisco             2.0   \n",
       "16           35000000  operating          USA       New York             1.0   \n",
       "18              50000     closed          USA      Cleveland             1.0   \n",
       "\n",
       "    founded_at  founded_year first_funding_at last_funding_at      seed  \\\n",
       "8   2013-01-01        2013.0       2013-01-01      2014-10-09  400000.0   \n",
       "10  2008-01-01        2008.0       2011-08-23      2011-08-23   40000.0   \n",
       "15  2011-09-16        2011.0       2011-11-02      2011-11-30  750000.0   \n",
       "16  2000-01-01        2000.0       2010-03-08      2010-03-08       0.0   \n",
       "18  2009-04-01        2009.0       2009-04-01      2009-04-01   50000.0   \n",
       "\n",
       "       venture  equity_crowdfunding  convertible_note  debt_financing  angel  \\\n",
       "8    4000000.0                  0.0               0.0             0.0    0.0   \n",
       "10         0.0                  0.0               0.0             0.0    0.0   \n",
       "15    500000.0                  0.0               0.0             0.0    0.0   \n",
       "16  35000000.0                  0.0               0.0             0.0    0.0   \n",
       "18         0.0                  0.0               0.0             0.0    0.0   \n",
       "\n",
       "    grant  private_equity  post_ipo_equity  post_ipo_debt  secondary_market  \\\n",
       "8     0.0             0.0              0.0            0.0               0.0   \n",
       "10    0.0             0.0              0.0            0.0               0.0   \n",
       "15    0.0             0.0              0.0            0.0               0.0   \n",
       "16    0.0             0.0              0.0            0.0               0.0   \n",
       "18    0.0             0.0              0.0            0.0               0.0   \n",
       "\n",
       "    product_crowdfunding    round_A  round_B  round_C  round_D  round_E  \\\n",
       "8                    0.0  4000000.0      0.0      0.0      0.0      0.0   \n",
       "10                   0.0        0.0      0.0      0.0      0.0      0.0   \n",
       "15                   0.0        0.0      0.0      0.0      0.0      0.0   \n",
       "16                   0.0        0.0      0.0      0.0      0.0      0.0   \n",
       "18                   0.0        0.0      0.0      0.0      0.0      0.0   \n",
       "\n",
       "    round_F  round_G  round_H  delta_founded_vs_firstfunding    valuation  \n",
       "8       0.0      0.0      0.0                            0.0   22000000.0  \n",
       "10      0.0      0.0      0.0                         1330.0     218000.0  \n",
       "15      0.0      0.0      0.0                           47.0  136000000.0  \n",
       "16      0.0      0.0      0.0                         3719.0  210000000.0  \n",
       "18      0.0      0.0      0.0                            0.0     273000.0  "
      ]
     },
     "execution_count": 12,
     "metadata": {},
     "output_type": "execute_result"
    }
   ],
   "source": [
    "startups.head()"
   ]
  },
  {
   "cell_type": "markdown",
   "id": "6433cf21",
   "metadata": {},
   "source": [
    "### I have now converted the valuation to absolute units instead of millions, and will now create a new column with the log of it"
   ]
  },
  {
   "cell_type": "code",
   "execution_count": 13,
   "id": "891e54b8",
   "metadata": {},
   "outputs": [],
   "source": [
    "startups.drop('Unnamed: 0', axis=1, inplace=True)"
   ]
  },
  {
   "cell_type": "code",
   "execution_count": 14,
   "id": "7ed3ad9d",
   "metadata": {},
   "outputs": [],
   "source": [
    "import numpy as np"
   ]
  },
  {
   "cell_type": "code",
   "execution_count": 15,
   "id": "d8fe1a67",
   "metadata": {},
   "outputs": [],
   "source": [
    "startups[\"log_valuation\"] = round(np.log10(startups[\"valuation\"]), 0)"
   ]
  },
  {
   "cell_type": "code",
   "execution_count": 17,
   "id": "6ee56320",
   "metadata": {},
   "outputs": [
    {
     "data": {
      "text/html": [
       "<div>\n",
       "<style scoped>\n",
       "    .dataframe tbody tr th:only-of-type {\n",
       "        vertical-align: middle;\n",
       "    }\n",
       "\n",
       "    .dataframe tbody tr th {\n",
       "        vertical-align: top;\n",
       "    }\n",
       "\n",
       "    .dataframe thead th {\n",
       "        text-align: right;\n",
       "    }\n",
       "</style>\n",
       "<table border=\"1\" class=\"dataframe\">\n",
       "  <thead>\n",
       "    <tr style=\"text-align: right;\">\n",
       "      <th></th>\n",
       "      <th>permalink</th>\n",
       "      <th>name</th>\n",
       "      <th>market</th>\n",
       "      <th>funding_total_usd</th>\n",
       "      <th>status</th>\n",
       "      <th>country_code</th>\n",
       "      <th>city</th>\n",
       "      <th>funding_rounds</th>\n",
       "      <th>founded_at</th>\n",
       "      <th>founded_year</th>\n",
       "      <th>first_funding_at</th>\n",
       "      <th>last_funding_at</th>\n",
       "      <th>seed</th>\n",
       "      <th>venture</th>\n",
       "      <th>equity_crowdfunding</th>\n",
       "      <th>convertible_note</th>\n",
       "      <th>debt_financing</th>\n",
       "      <th>angel</th>\n",
       "      <th>grant</th>\n",
       "      <th>private_equity</th>\n",
       "      <th>post_ipo_equity</th>\n",
       "      <th>post_ipo_debt</th>\n",
       "      <th>secondary_market</th>\n",
       "      <th>product_crowdfunding</th>\n",
       "      <th>round_A</th>\n",
       "      <th>round_B</th>\n",
       "      <th>round_C</th>\n",
       "      <th>round_D</th>\n",
       "      <th>round_E</th>\n",
       "      <th>round_F</th>\n",
       "      <th>round_G</th>\n",
       "      <th>round_H</th>\n",
       "      <th>delta_founded_vs_firstfunding</th>\n",
       "      <th>valuation</th>\n",
       "      <th>log_valuation</th>\n",
       "    </tr>\n",
       "  </thead>\n",
       "  <tbody>\n",
       "    <tr>\n",
       "      <th>8</th>\n",
       "      <td>/organization/10-minutes-with</td>\n",
       "      <td>10 Minutes With</td>\n",
       "      <td>Education</td>\n",
       "      <td>4400000</td>\n",
       "      <td>operating</td>\n",
       "      <td>GBR</td>\n",
       "      <td>London</td>\n",
       "      <td>2.0</td>\n",
       "      <td>2013-01-01</td>\n",
       "      <td>2013.0</td>\n",
       "      <td>2013-01-01</td>\n",
       "      <td>2014-10-09</td>\n",
       "      <td>400000.0</td>\n",
       "      <td>4000000.0</td>\n",
       "      <td>0.0</td>\n",
       "      <td>0.0</td>\n",
       "      <td>0.0</td>\n",
       "      <td>0.0</td>\n",
       "      <td>0.0</td>\n",
       "      <td>0.0</td>\n",
       "      <td>0.0</td>\n",
       "      <td>0.0</td>\n",
       "      <td>0.0</td>\n",
       "      <td>0.0</td>\n",
       "      <td>4000000.0</td>\n",
       "      <td>0.0</td>\n",
       "      <td>0.0</td>\n",
       "      <td>0.0</td>\n",
       "      <td>0.0</td>\n",
       "      <td>0.0</td>\n",
       "      <td>0.0</td>\n",
       "      <td>0.0</td>\n",
       "      <td>0.0</td>\n",
       "      <td>22000000.0</td>\n",
       "      <td>7.0</td>\n",
       "    </tr>\n",
       "    <tr>\n",
       "      <th>10</th>\n",
       "      <td>/organization/1000-corks</td>\n",
       "      <td>1000 Corks</td>\n",
       "      <td>Search</td>\n",
       "      <td>40000</td>\n",
       "      <td>operating</td>\n",
       "      <td>USA</td>\n",
       "      <td>Lake Oswego</td>\n",
       "      <td>1.0</td>\n",
       "      <td>2008-01-01</td>\n",
       "      <td>2008.0</td>\n",
       "      <td>2011-08-23</td>\n",
       "      <td>2011-08-23</td>\n",
       "      <td>40000.0</td>\n",
       "      <td>0.0</td>\n",
       "      <td>0.0</td>\n",
       "      <td>0.0</td>\n",
       "      <td>0.0</td>\n",
       "      <td>0.0</td>\n",
       "      <td>0.0</td>\n",
       "      <td>0.0</td>\n",
       "      <td>0.0</td>\n",
       "      <td>0.0</td>\n",
       "      <td>0.0</td>\n",
       "      <td>0.0</td>\n",
       "      <td>0.0</td>\n",
       "      <td>0.0</td>\n",
       "      <td>0.0</td>\n",
       "      <td>0.0</td>\n",
       "      <td>0.0</td>\n",
       "      <td>0.0</td>\n",
       "      <td>0.0</td>\n",
       "      <td>0.0</td>\n",
       "      <td>1330.0</td>\n",
       "      <td>218000.0</td>\n",
       "      <td>5.0</td>\n",
       "    </tr>\n",
       "    <tr>\n",
       "      <th>15</th>\n",
       "      <td>/organization/100plus</td>\n",
       "      <td>100Plus</td>\n",
       "      <td>Analytics</td>\n",
       "      <td>1250000</td>\n",
       "      <td>acquired</td>\n",
       "      <td>USA</td>\n",
       "      <td>San Francisco</td>\n",
       "      <td>2.0</td>\n",
       "      <td>2011-09-16</td>\n",
       "      <td>2011.0</td>\n",
       "      <td>2011-11-02</td>\n",
       "      <td>2011-11-30</td>\n",
       "      <td>750000.0</td>\n",
       "      <td>500000.0</td>\n",
       "      <td>0.0</td>\n",
       "      <td>0.0</td>\n",
       "      <td>0.0</td>\n",
       "      <td>0.0</td>\n",
       "      <td>0.0</td>\n",
       "      <td>0.0</td>\n",
       "      <td>0.0</td>\n",
       "      <td>0.0</td>\n",
       "      <td>0.0</td>\n",
       "      <td>0.0</td>\n",
       "      <td>0.0</td>\n",
       "      <td>0.0</td>\n",
       "      <td>0.0</td>\n",
       "      <td>0.0</td>\n",
       "      <td>0.0</td>\n",
       "      <td>0.0</td>\n",
       "      <td>0.0</td>\n",
       "      <td>0.0</td>\n",
       "      <td>47.0</td>\n",
       "      <td>136000000.0</td>\n",
       "      <td>8.0</td>\n",
       "    </tr>\n",
       "    <tr>\n",
       "      <th>16</th>\n",
       "      <td>/organization/1010data</td>\n",
       "      <td>1010data</td>\n",
       "      <td>Software</td>\n",
       "      <td>35000000</td>\n",
       "      <td>operating</td>\n",
       "      <td>USA</td>\n",
       "      <td>New York</td>\n",
       "      <td>1.0</td>\n",
       "      <td>2000-01-01</td>\n",
       "      <td>2000.0</td>\n",
       "      <td>2010-03-08</td>\n",
       "      <td>2010-03-08</td>\n",
       "      <td>0.0</td>\n",
       "      <td>35000000.0</td>\n",
       "      <td>0.0</td>\n",
       "      <td>0.0</td>\n",
       "      <td>0.0</td>\n",
       "      <td>0.0</td>\n",
       "      <td>0.0</td>\n",
       "      <td>0.0</td>\n",
       "      <td>0.0</td>\n",
       "      <td>0.0</td>\n",
       "      <td>0.0</td>\n",
       "      <td>0.0</td>\n",
       "      <td>0.0</td>\n",
       "      <td>0.0</td>\n",
       "      <td>0.0</td>\n",
       "      <td>0.0</td>\n",
       "      <td>0.0</td>\n",
       "      <td>0.0</td>\n",
       "      <td>0.0</td>\n",
       "      <td>0.0</td>\n",
       "      <td>3719.0</td>\n",
       "      <td>210000000.0</td>\n",
       "      <td>8.0</td>\n",
       "    </tr>\n",
       "    <tr>\n",
       "      <th>18</th>\n",
       "      <td>/organization/10bestthings</td>\n",
       "      <td>10BestThings</td>\n",
       "      <td>Curated Web</td>\n",
       "      <td>50000</td>\n",
       "      <td>closed</td>\n",
       "      <td>USA</td>\n",
       "      <td>Cleveland</td>\n",
       "      <td>1.0</td>\n",
       "      <td>2009-04-01</td>\n",
       "      <td>2009.0</td>\n",
       "      <td>2009-04-01</td>\n",
       "      <td>2009-04-01</td>\n",
       "      <td>50000.0</td>\n",
       "      <td>0.0</td>\n",
       "      <td>0.0</td>\n",
       "      <td>0.0</td>\n",
       "      <td>0.0</td>\n",
       "      <td>0.0</td>\n",
       "      <td>0.0</td>\n",
       "      <td>0.0</td>\n",
       "      <td>0.0</td>\n",
       "      <td>0.0</td>\n",
       "      <td>0.0</td>\n",
       "      <td>0.0</td>\n",
       "      <td>0.0</td>\n",
       "      <td>0.0</td>\n",
       "      <td>0.0</td>\n",
       "      <td>0.0</td>\n",
       "      <td>0.0</td>\n",
       "      <td>0.0</td>\n",
       "      <td>0.0</td>\n",
       "      <td>0.0</td>\n",
       "      <td>0.0</td>\n",
       "      <td>273000.0</td>\n",
       "      <td>5.0</td>\n",
       "    </tr>\n",
       "  </tbody>\n",
       "</table>\n",
       "</div>"
      ],
      "text/plain": [
       "                        permalink             name         market  \\\n",
       "8   /organization/10-minutes-with  10 Minutes With     Education    \n",
       "10       /organization/1000-corks       1000 Corks        Search    \n",
       "15          /organization/100plus          100Plus     Analytics    \n",
       "16         /organization/1010data         1010data      Software    \n",
       "18     /organization/10bestthings     10BestThings   Curated Web    \n",
       "\n",
       "    funding_total_usd     status country_code           city  funding_rounds  \\\n",
       "8             4400000  operating          GBR         London             2.0   \n",
       "10              40000  operating          USA    Lake Oswego             1.0   \n",
       "15            1250000   acquired          USA  San Francisco             2.0   \n",
       "16           35000000  operating          USA       New York             1.0   \n",
       "18              50000     closed          USA      Cleveland             1.0   \n",
       "\n",
       "    founded_at  founded_year first_funding_at last_funding_at      seed  \\\n",
       "8   2013-01-01        2013.0       2013-01-01      2014-10-09  400000.0   \n",
       "10  2008-01-01        2008.0       2011-08-23      2011-08-23   40000.0   \n",
       "15  2011-09-16        2011.0       2011-11-02      2011-11-30  750000.0   \n",
       "16  2000-01-01        2000.0       2010-03-08      2010-03-08       0.0   \n",
       "18  2009-04-01        2009.0       2009-04-01      2009-04-01   50000.0   \n",
       "\n",
       "       venture  equity_crowdfunding  convertible_note  debt_financing  angel  \\\n",
       "8    4000000.0                  0.0               0.0             0.0    0.0   \n",
       "10         0.0                  0.0               0.0             0.0    0.0   \n",
       "15    500000.0                  0.0               0.0             0.0    0.0   \n",
       "16  35000000.0                  0.0               0.0             0.0    0.0   \n",
       "18         0.0                  0.0               0.0             0.0    0.0   \n",
       "\n",
       "    grant  private_equity  post_ipo_equity  post_ipo_debt  secondary_market  \\\n",
       "8     0.0             0.0              0.0            0.0               0.0   \n",
       "10    0.0             0.0              0.0            0.0               0.0   \n",
       "15    0.0             0.0              0.0            0.0               0.0   \n",
       "16    0.0             0.0              0.0            0.0               0.0   \n",
       "18    0.0             0.0              0.0            0.0               0.0   \n",
       "\n",
       "    product_crowdfunding    round_A  round_B  round_C  round_D  round_E  \\\n",
       "8                    0.0  4000000.0      0.0      0.0      0.0      0.0   \n",
       "10                   0.0        0.0      0.0      0.0      0.0      0.0   \n",
       "15                   0.0        0.0      0.0      0.0      0.0      0.0   \n",
       "16                   0.0        0.0      0.0      0.0      0.0      0.0   \n",
       "18                   0.0        0.0      0.0      0.0      0.0      0.0   \n",
       "\n",
       "    round_F  round_G  round_H  delta_founded_vs_firstfunding    valuation  \\\n",
       "8       0.0      0.0      0.0                            0.0   22000000.0   \n",
       "10      0.0      0.0      0.0                         1330.0     218000.0   \n",
       "15      0.0      0.0      0.0                           47.0  136000000.0   \n",
       "16      0.0      0.0      0.0                         3719.0  210000000.0   \n",
       "18      0.0      0.0      0.0                            0.0     273000.0   \n",
       "\n",
       "    log_valuation  \n",
       "8             7.0  \n",
       "10            5.0  \n",
       "15            8.0  \n",
       "16            8.0  \n",
       "18            5.0  "
      ]
     },
     "execution_count": 17,
     "metadata": {},
     "output_type": "execute_result"
    }
   ],
   "source": [
    "startups.head()"
   ]
  },
  {
   "cell_type": "code",
   "execution_count": 16,
   "id": "5e2c8866",
   "metadata": {},
   "outputs": [],
   "source": [
    "startups = startups[startups[\"log_valuation\"].notnull()]"
   ]
  },
  {
   "cell_type": "markdown",
   "id": "fd2975c3",
   "metadata": {},
   "source": [
    "### Now let's drop the valuation column and use as predictor the log"
   ]
  },
  {
   "cell_type": "code",
   "execution_count": 17,
   "id": "85318606",
   "metadata": {},
   "outputs": [],
   "source": [
    "startups.drop('valuation', axis=1, inplace=True)"
   ]
  },
  {
   "cell_type": "markdown",
   "id": "3a5d67f1",
   "metadata": {},
   "source": [
    "### There are some categorical values that I would like to take into account, such as the country or market, for that we will use rank encoding initially"
   ]
  },
  {
   "cell_type": "code",
   "execution_count": 18,
   "id": "bd0e8d79",
   "metadata": {},
   "outputs": [],
   "source": [
    "top_20_countries = startups.country_code.value_counts().head(20)"
   ]
  },
  {
   "cell_type": "code",
   "execution_count": 19,
   "id": "db74589b",
   "metadata": {},
   "outputs": [],
   "source": [
    "top_20_countries_df = pd.DataFrame(top_20_countries)"
   ]
  },
  {
   "cell_type": "code",
   "execution_count": 20,
   "id": "473bcee9",
   "metadata": {},
   "outputs": [],
   "source": [
    "top_20_countries_df[\"rank\"] = range(1, len(top_20_countries_df)+1)"
   ]
  },
  {
   "cell_type": "code",
   "execution_count": 21,
   "id": "b9cfff22",
   "metadata": {},
   "outputs": [],
   "source": [
    "top_20_countries_df.drop('country_code', axis=1, inplace=True)"
   ]
  },
  {
   "cell_type": "code",
   "execution_count": 22,
   "id": "1d22114d",
   "metadata": {},
   "outputs": [],
   "source": [
    "countries = top_20_countries_df.to_dict(orient=\"index\")"
   ]
  },
  {
   "cell_type": "code",
   "execution_count": 23,
   "id": "4556f3c2",
   "metadata": {},
   "outputs": [
    {
     "data": {
      "text/plain": [
       "1"
      ]
     },
     "execution_count": 23,
     "metadata": {},
     "output_type": "execute_result"
    }
   ],
   "source": [
    "countries[\"USA\"]['rank']"
   ]
  },
  {
   "cell_type": "code",
   "execution_count": 24,
   "id": "3fc89a9f",
   "metadata": {},
   "outputs": [],
   "source": [
    "top_20_countries_list = countries.keys()"
   ]
  },
  {
   "cell_type": "code",
   "execution_count": 25,
   "id": "cf345d34",
   "metadata": {},
   "outputs": [],
   "source": [
    "def country_ranking(x):\n",
    "    if x in top_20_countries_list:\n",
    "        return countries[x]['rank']\n",
    "    else:\n",
    "        return 21"
   ]
  },
  {
   "cell_type": "code",
   "execution_count": 26,
   "id": "dc6c28d9",
   "metadata": {},
   "outputs": [],
   "source": [
    "ranking_country = []"
   ]
  },
  {
   "cell_type": "code",
   "execution_count": 27,
   "id": "46bae51b",
   "metadata": {},
   "outputs": [],
   "source": [
    "for i, row in startups.iterrows():\n",
    "    name = row[\"country_code\"]\n",
    "    ranking = country_ranking(name)\n",
    "    ranking_country.append(ranking)\n",
    "    "
   ]
  },
  {
   "cell_type": "code",
   "execution_count": 28,
   "id": "93d7baaa",
   "metadata": {},
   "outputs": [
    {
     "data": {
      "text/plain": [
       "[2, 1, 1, 1, 1, 12, 1, 12, 1, 21, 15, 1, 11, 1, 1, 1, 8, 1, 1, 1]"
      ]
     },
     "execution_count": 28,
     "metadata": {},
     "output_type": "execute_result"
    }
   ],
   "source": [
    "ranking_country[:20]"
   ]
  },
  {
   "cell_type": "code",
   "execution_count": 29,
   "id": "f19e33ba",
   "metadata": {},
   "outputs": [],
   "source": [
    "startups[\"country_ranking\"] = ranking_country"
   ]
  },
  {
   "cell_type": "code",
   "execution_count": 30,
   "id": "3e929f5a",
   "metadata": {},
   "outputs": [
    {
     "data": {
      "text/html": [
       "<div>\n",
       "<style scoped>\n",
       "    .dataframe tbody tr th:only-of-type {\n",
       "        vertical-align: middle;\n",
       "    }\n",
       "\n",
       "    .dataframe tbody tr th {\n",
       "        vertical-align: top;\n",
       "    }\n",
       "\n",
       "    .dataframe thead th {\n",
       "        text-align: right;\n",
       "    }\n",
       "</style>\n",
       "<table border=\"1\" class=\"dataframe\">\n",
       "  <thead>\n",
       "    <tr style=\"text-align: right;\">\n",
       "      <th></th>\n",
       "      <th>permalink</th>\n",
       "      <th>name</th>\n",
       "      <th>market</th>\n",
       "      <th>funding_total_usd</th>\n",
       "      <th>status</th>\n",
       "      <th>country_code</th>\n",
       "      <th>city</th>\n",
       "      <th>funding_rounds</th>\n",
       "      <th>founded_at</th>\n",
       "      <th>founded_year</th>\n",
       "      <th>first_funding_at</th>\n",
       "      <th>last_funding_at</th>\n",
       "      <th>seed</th>\n",
       "      <th>venture</th>\n",
       "      <th>equity_crowdfunding</th>\n",
       "      <th>convertible_note</th>\n",
       "      <th>debt_financing</th>\n",
       "      <th>angel</th>\n",
       "      <th>grant</th>\n",
       "      <th>private_equity</th>\n",
       "      <th>post_ipo_equity</th>\n",
       "      <th>post_ipo_debt</th>\n",
       "      <th>secondary_market</th>\n",
       "      <th>product_crowdfunding</th>\n",
       "      <th>round_A</th>\n",
       "      <th>round_B</th>\n",
       "      <th>round_C</th>\n",
       "      <th>round_D</th>\n",
       "      <th>round_E</th>\n",
       "      <th>round_F</th>\n",
       "      <th>round_G</th>\n",
       "      <th>round_H</th>\n",
       "      <th>delta_founded_vs_firstfunding</th>\n",
       "      <th>log_valuation</th>\n",
       "      <th>country_ranking</th>\n",
       "    </tr>\n",
       "  </thead>\n",
       "  <tbody>\n",
       "    <tr>\n",
       "      <th>8</th>\n",
       "      <td>/organization/10-minutes-with</td>\n",
       "      <td>10 Minutes With</td>\n",
       "      <td>Education</td>\n",
       "      <td>4400000</td>\n",
       "      <td>operating</td>\n",
       "      <td>GBR</td>\n",
       "      <td>London</td>\n",
       "      <td>2.0</td>\n",
       "      <td>2013-01-01</td>\n",
       "      <td>2013.0</td>\n",
       "      <td>2013-01-01</td>\n",
       "      <td>2014-10-09</td>\n",
       "      <td>400000.0</td>\n",
       "      <td>4000000.0</td>\n",
       "      <td>0.0</td>\n",
       "      <td>0.0</td>\n",
       "      <td>0.0</td>\n",
       "      <td>0.0</td>\n",
       "      <td>0.0</td>\n",
       "      <td>0.0</td>\n",
       "      <td>0.0</td>\n",
       "      <td>0.0</td>\n",
       "      <td>0.0</td>\n",
       "      <td>0.0</td>\n",
       "      <td>4000000.0</td>\n",
       "      <td>0.0</td>\n",
       "      <td>0.0</td>\n",
       "      <td>0.0</td>\n",
       "      <td>0.0</td>\n",
       "      <td>0.0</td>\n",
       "      <td>0.0</td>\n",
       "      <td>0.0</td>\n",
       "      <td>0.0</td>\n",
       "      <td>7.0</td>\n",
       "      <td>2</td>\n",
       "    </tr>\n",
       "    <tr>\n",
       "      <th>10</th>\n",
       "      <td>/organization/1000-corks</td>\n",
       "      <td>1000 Corks</td>\n",
       "      <td>Search</td>\n",
       "      <td>40000</td>\n",
       "      <td>operating</td>\n",
       "      <td>USA</td>\n",
       "      <td>Lake Oswego</td>\n",
       "      <td>1.0</td>\n",
       "      <td>2008-01-01</td>\n",
       "      <td>2008.0</td>\n",
       "      <td>2011-08-23</td>\n",
       "      <td>2011-08-23</td>\n",
       "      <td>40000.0</td>\n",
       "      <td>0.0</td>\n",
       "      <td>0.0</td>\n",
       "      <td>0.0</td>\n",
       "      <td>0.0</td>\n",
       "      <td>0.0</td>\n",
       "      <td>0.0</td>\n",
       "      <td>0.0</td>\n",
       "      <td>0.0</td>\n",
       "      <td>0.0</td>\n",
       "      <td>0.0</td>\n",
       "      <td>0.0</td>\n",
       "      <td>0.0</td>\n",
       "      <td>0.0</td>\n",
       "      <td>0.0</td>\n",
       "      <td>0.0</td>\n",
       "      <td>0.0</td>\n",
       "      <td>0.0</td>\n",
       "      <td>0.0</td>\n",
       "      <td>0.0</td>\n",
       "      <td>1330.0</td>\n",
       "      <td>5.0</td>\n",
       "      <td>1</td>\n",
       "    </tr>\n",
       "    <tr>\n",
       "      <th>15</th>\n",
       "      <td>/organization/100plus</td>\n",
       "      <td>100Plus</td>\n",
       "      <td>Analytics</td>\n",
       "      <td>1250000</td>\n",
       "      <td>acquired</td>\n",
       "      <td>USA</td>\n",
       "      <td>San Francisco</td>\n",
       "      <td>2.0</td>\n",
       "      <td>2011-09-16</td>\n",
       "      <td>2011.0</td>\n",
       "      <td>2011-11-02</td>\n",
       "      <td>2011-11-30</td>\n",
       "      <td>750000.0</td>\n",
       "      <td>500000.0</td>\n",
       "      <td>0.0</td>\n",
       "      <td>0.0</td>\n",
       "      <td>0.0</td>\n",
       "      <td>0.0</td>\n",
       "      <td>0.0</td>\n",
       "      <td>0.0</td>\n",
       "      <td>0.0</td>\n",
       "      <td>0.0</td>\n",
       "      <td>0.0</td>\n",
       "      <td>0.0</td>\n",
       "      <td>0.0</td>\n",
       "      <td>0.0</td>\n",
       "      <td>0.0</td>\n",
       "      <td>0.0</td>\n",
       "      <td>0.0</td>\n",
       "      <td>0.0</td>\n",
       "      <td>0.0</td>\n",
       "      <td>0.0</td>\n",
       "      <td>47.0</td>\n",
       "      <td>8.0</td>\n",
       "      <td>1</td>\n",
       "    </tr>\n",
       "    <tr>\n",
       "      <th>16</th>\n",
       "      <td>/organization/1010data</td>\n",
       "      <td>1010data</td>\n",
       "      <td>Software</td>\n",
       "      <td>35000000</td>\n",
       "      <td>operating</td>\n",
       "      <td>USA</td>\n",
       "      <td>New York</td>\n",
       "      <td>1.0</td>\n",
       "      <td>2000-01-01</td>\n",
       "      <td>2000.0</td>\n",
       "      <td>2010-03-08</td>\n",
       "      <td>2010-03-08</td>\n",
       "      <td>0.0</td>\n",
       "      <td>35000000.0</td>\n",
       "      <td>0.0</td>\n",
       "      <td>0.0</td>\n",
       "      <td>0.0</td>\n",
       "      <td>0.0</td>\n",
       "      <td>0.0</td>\n",
       "      <td>0.0</td>\n",
       "      <td>0.0</td>\n",
       "      <td>0.0</td>\n",
       "      <td>0.0</td>\n",
       "      <td>0.0</td>\n",
       "      <td>0.0</td>\n",
       "      <td>0.0</td>\n",
       "      <td>0.0</td>\n",
       "      <td>0.0</td>\n",
       "      <td>0.0</td>\n",
       "      <td>0.0</td>\n",
       "      <td>0.0</td>\n",
       "      <td>0.0</td>\n",
       "      <td>3719.0</td>\n",
       "      <td>8.0</td>\n",
       "      <td>1</td>\n",
       "    </tr>\n",
       "    <tr>\n",
       "      <th>18</th>\n",
       "      <td>/organization/10bestthings</td>\n",
       "      <td>10BestThings</td>\n",
       "      <td>Curated Web</td>\n",
       "      <td>50000</td>\n",
       "      <td>closed</td>\n",
       "      <td>USA</td>\n",
       "      <td>Cleveland</td>\n",
       "      <td>1.0</td>\n",
       "      <td>2009-04-01</td>\n",
       "      <td>2009.0</td>\n",
       "      <td>2009-04-01</td>\n",
       "      <td>2009-04-01</td>\n",
       "      <td>50000.0</td>\n",
       "      <td>0.0</td>\n",
       "      <td>0.0</td>\n",
       "      <td>0.0</td>\n",
       "      <td>0.0</td>\n",
       "      <td>0.0</td>\n",
       "      <td>0.0</td>\n",
       "      <td>0.0</td>\n",
       "      <td>0.0</td>\n",
       "      <td>0.0</td>\n",
       "      <td>0.0</td>\n",
       "      <td>0.0</td>\n",
       "      <td>0.0</td>\n",
       "      <td>0.0</td>\n",
       "      <td>0.0</td>\n",
       "      <td>0.0</td>\n",
       "      <td>0.0</td>\n",
       "      <td>0.0</td>\n",
       "      <td>0.0</td>\n",
       "      <td>0.0</td>\n",
       "      <td>0.0</td>\n",
       "      <td>5.0</td>\n",
       "      <td>1</td>\n",
       "    </tr>\n",
       "  </tbody>\n",
       "</table>\n",
       "</div>"
      ],
      "text/plain": [
       "                        permalink             name         market  \\\n",
       "8   /organization/10-minutes-with  10 Minutes With     Education    \n",
       "10       /organization/1000-corks       1000 Corks        Search    \n",
       "15          /organization/100plus          100Plus     Analytics    \n",
       "16         /organization/1010data         1010data      Software    \n",
       "18     /organization/10bestthings     10BestThings   Curated Web    \n",
       "\n",
       "    funding_total_usd     status country_code           city  funding_rounds  \\\n",
       "8             4400000  operating          GBR         London             2.0   \n",
       "10              40000  operating          USA    Lake Oswego             1.0   \n",
       "15            1250000   acquired          USA  San Francisco             2.0   \n",
       "16           35000000  operating          USA       New York             1.0   \n",
       "18              50000     closed          USA      Cleveland             1.0   \n",
       "\n",
       "    founded_at  founded_year first_funding_at last_funding_at      seed  \\\n",
       "8   2013-01-01        2013.0       2013-01-01      2014-10-09  400000.0   \n",
       "10  2008-01-01        2008.0       2011-08-23      2011-08-23   40000.0   \n",
       "15  2011-09-16        2011.0       2011-11-02      2011-11-30  750000.0   \n",
       "16  2000-01-01        2000.0       2010-03-08      2010-03-08       0.0   \n",
       "18  2009-04-01        2009.0       2009-04-01      2009-04-01   50000.0   \n",
       "\n",
       "       venture  equity_crowdfunding  convertible_note  debt_financing  angel  \\\n",
       "8    4000000.0                  0.0               0.0             0.0    0.0   \n",
       "10         0.0                  0.0               0.0             0.0    0.0   \n",
       "15    500000.0                  0.0               0.0             0.0    0.0   \n",
       "16  35000000.0                  0.0               0.0             0.0    0.0   \n",
       "18         0.0                  0.0               0.0             0.0    0.0   \n",
       "\n",
       "    grant  private_equity  post_ipo_equity  post_ipo_debt  secondary_market  \\\n",
       "8     0.0             0.0              0.0            0.0               0.0   \n",
       "10    0.0             0.0              0.0            0.0               0.0   \n",
       "15    0.0             0.0              0.0            0.0               0.0   \n",
       "16    0.0             0.0              0.0            0.0               0.0   \n",
       "18    0.0             0.0              0.0            0.0               0.0   \n",
       "\n",
       "    product_crowdfunding    round_A  round_B  round_C  round_D  round_E  \\\n",
       "8                    0.0  4000000.0      0.0      0.0      0.0      0.0   \n",
       "10                   0.0        0.0      0.0      0.0      0.0      0.0   \n",
       "15                   0.0        0.0      0.0      0.0      0.0      0.0   \n",
       "16                   0.0        0.0      0.0      0.0      0.0      0.0   \n",
       "18                   0.0        0.0      0.0      0.0      0.0      0.0   \n",
       "\n",
       "    round_F  round_G  round_H  delta_founded_vs_firstfunding  log_valuation  \\\n",
       "8       0.0      0.0      0.0                            0.0            7.0   \n",
       "10      0.0      0.0      0.0                         1330.0            5.0   \n",
       "15      0.0      0.0      0.0                           47.0            8.0   \n",
       "16      0.0      0.0      0.0                         3719.0            8.0   \n",
       "18      0.0      0.0      0.0                            0.0            5.0   \n",
       "\n",
       "    country_ranking  \n",
       "8                 2  \n",
       "10                1  \n",
       "15                1  \n",
       "16                1  \n",
       "18                1  "
      ]
     },
     "execution_count": 30,
     "metadata": {},
     "output_type": "execute_result"
    }
   ],
   "source": [
    "startups.head()"
   ]
  },
  {
   "cell_type": "markdown",
   "id": "2e9d02d2",
   "metadata": {},
   "source": [
    "### I have elaborated a rank encoding column for the country of each startup based on the frequency of the country within the dataset. Now I will perform the same operation but for the market"
   ]
  },
  {
   "cell_type": "code",
   "execution_count": 31,
   "id": "d1207a9f",
   "metadata": {},
   "outputs": [],
   "source": [
    "top_20_markets = startups.market.value_counts().head(20)"
   ]
  },
  {
   "cell_type": "code",
   "execution_count": 32,
   "id": "3ec7cbde",
   "metadata": {},
   "outputs": [
    {
     "data": {
      "text/plain": [
       " Software                2247\n",
       " Biotechnology           1682\n",
       " Mobile                   913\n",
       " Enterprise Software      674\n",
       " E-Commerce               673\n",
       " Curated Web              648\n",
       " Health Care              610\n",
       " Hardware + Software      539\n",
       " Advertising              488\n",
       " Games                    468\n",
       " Clean Technology         466\n",
       " Health and Wellness      375\n",
       " Social Media             364\n",
       " Education                333\n",
       " Analytics                330\n",
       " Finance                  318\n",
       " Semiconductors           270\n",
       " Security                 267\n",
       " Manufacturing            237\n",
       " Web Hosting              211\n",
       "Name: market, dtype: int64"
      ]
     },
     "execution_count": 32,
     "metadata": {},
     "output_type": "execute_result"
    }
   ],
   "source": [
    "top_20_markets"
   ]
  },
  {
   "cell_type": "code",
   "execution_count": 33,
   "id": "44e541d1",
   "metadata": {},
   "outputs": [],
   "source": [
    "top_20_markets_df = pd.DataFrame(top_20_markets)"
   ]
  },
  {
   "cell_type": "code",
   "execution_count": 34,
   "id": "ad429d64",
   "metadata": {},
   "outputs": [],
   "source": [
    "top_20_markets_df[\"rank\"] = range(1, len(top_20_markets_df)+1)"
   ]
  },
  {
   "cell_type": "code",
   "execution_count": 35,
   "id": "0cccede8",
   "metadata": {},
   "outputs": [],
   "source": [
    "top_20_markets_df.drop('market', axis=1, inplace=True)"
   ]
  },
  {
   "cell_type": "code",
   "execution_count": 36,
   "id": "2fd2bf7a",
   "metadata": {},
   "outputs": [],
   "source": [
    "markets = top_20_markets_df.to_dict(orient=\"index\")"
   ]
  },
  {
   "cell_type": "code",
   "execution_count": 37,
   "id": "761aa0e0",
   "metadata": {},
   "outputs": [
    {
     "data": {
      "text/plain": [
       "16"
      ]
     },
     "execution_count": 37,
     "metadata": {},
     "output_type": "execute_result"
    }
   ],
   "source": [
    "markets[\" Finance \"][\"rank\"]"
   ]
  },
  {
   "cell_type": "code",
   "execution_count": 38,
   "id": "c9a27f38",
   "metadata": {},
   "outputs": [],
   "source": [
    "top_20_markets_list = markets.keys()"
   ]
  },
  {
   "cell_type": "code",
   "execution_count": 39,
   "id": "a11ded1d",
   "metadata": {},
   "outputs": [],
   "source": [
    "def market_ranking(x):\n",
    "    if x in top_20_markets_list:\n",
    "        return markets[x]['rank']\n",
    "    else:\n",
    "        return 21"
   ]
  },
  {
   "cell_type": "code",
   "execution_count": 40,
   "id": "f7676ed9",
   "metadata": {},
   "outputs": [],
   "source": [
    "ranking_market = []"
   ]
  },
  {
   "cell_type": "code",
   "execution_count": 41,
   "id": "911158ba",
   "metadata": {},
   "outputs": [],
   "source": [
    "for i, row in startups.iterrows():\n",
    "    name = row[\"market\"]\n",
    "    ranking = market_ranking(name)\n",
    "    ranking_market.append(ranking)"
   ]
  },
  {
   "cell_type": "code",
   "execution_count": 42,
   "id": "a6e75f8f",
   "metadata": {},
   "outputs": [
    {
     "data": {
      "text/plain": [
       "[14, 21, 15, 1, 6, 21, 2, 3, 21, 21, 1, 19, 3, 21, 1, 1, 16, 5, 21, 1]"
      ]
     },
     "execution_count": 42,
     "metadata": {},
     "output_type": "execute_result"
    }
   ],
   "source": [
    "ranking_market[:20]"
   ]
  },
  {
   "cell_type": "code",
   "execution_count": 43,
   "id": "b603a555",
   "metadata": {},
   "outputs": [],
   "source": [
    "startups[\"market_ranking\"] = ranking_market"
   ]
  },
  {
   "cell_type": "code",
   "execution_count": 44,
   "id": "96398ae1",
   "metadata": {},
   "outputs": [
    {
     "data": {
      "text/html": [
       "<div>\n",
       "<style scoped>\n",
       "    .dataframe tbody tr th:only-of-type {\n",
       "        vertical-align: middle;\n",
       "    }\n",
       "\n",
       "    .dataframe tbody tr th {\n",
       "        vertical-align: top;\n",
       "    }\n",
       "\n",
       "    .dataframe thead th {\n",
       "        text-align: right;\n",
       "    }\n",
       "</style>\n",
       "<table border=\"1\" class=\"dataframe\">\n",
       "  <thead>\n",
       "    <tr style=\"text-align: right;\">\n",
       "      <th></th>\n",
       "      <th>permalink</th>\n",
       "      <th>name</th>\n",
       "      <th>market</th>\n",
       "      <th>funding_total_usd</th>\n",
       "      <th>status</th>\n",
       "      <th>country_code</th>\n",
       "      <th>city</th>\n",
       "      <th>funding_rounds</th>\n",
       "      <th>founded_at</th>\n",
       "      <th>founded_year</th>\n",
       "      <th>first_funding_at</th>\n",
       "      <th>last_funding_at</th>\n",
       "      <th>seed</th>\n",
       "      <th>venture</th>\n",
       "      <th>equity_crowdfunding</th>\n",
       "      <th>convertible_note</th>\n",
       "      <th>debt_financing</th>\n",
       "      <th>angel</th>\n",
       "      <th>grant</th>\n",
       "      <th>private_equity</th>\n",
       "      <th>post_ipo_equity</th>\n",
       "      <th>post_ipo_debt</th>\n",
       "      <th>secondary_market</th>\n",
       "      <th>product_crowdfunding</th>\n",
       "      <th>round_A</th>\n",
       "      <th>round_B</th>\n",
       "      <th>round_C</th>\n",
       "      <th>round_D</th>\n",
       "      <th>round_E</th>\n",
       "      <th>round_F</th>\n",
       "      <th>round_G</th>\n",
       "      <th>round_H</th>\n",
       "      <th>delta_founded_vs_firstfunding</th>\n",
       "      <th>log_valuation</th>\n",
       "      <th>country_ranking</th>\n",
       "      <th>market_ranking</th>\n",
       "    </tr>\n",
       "  </thead>\n",
       "  <tbody>\n",
       "    <tr>\n",
       "      <th>8</th>\n",
       "      <td>/organization/10-minutes-with</td>\n",
       "      <td>10 Minutes With</td>\n",
       "      <td>Education</td>\n",
       "      <td>4400000</td>\n",
       "      <td>operating</td>\n",
       "      <td>GBR</td>\n",
       "      <td>London</td>\n",
       "      <td>2.0</td>\n",
       "      <td>2013-01-01</td>\n",
       "      <td>2013.0</td>\n",
       "      <td>2013-01-01</td>\n",
       "      <td>2014-10-09</td>\n",
       "      <td>400000.0</td>\n",
       "      <td>4000000.0</td>\n",
       "      <td>0.0</td>\n",
       "      <td>0.0</td>\n",
       "      <td>0.0</td>\n",
       "      <td>0.0</td>\n",
       "      <td>0.0</td>\n",
       "      <td>0.0</td>\n",
       "      <td>0.0</td>\n",
       "      <td>0.0</td>\n",
       "      <td>0.0</td>\n",
       "      <td>0.0</td>\n",
       "      <td>4000000.0</td>\n",
       "      <td>0.0</td>\n",
       "      <td>0.0</td>\n",
       "      <td>0.0</td>\n",
       "      <td>0.0</td>\n",
       "      <td>0.0</td>\n",
       "      <td>0.0</td>\n",
       "      <td>0.0</td>\n",
       "      <td>0.0</td>\n",
       "      <td>7.0</td>\n",
       "      <td>2</td>\n",
       "      <td>14</td>\n",
       "    </tr>\n",
       "    <tr>\n",
       "      <th>10</th>\n",
       "      <td>/organization/1000-corks</td>\n",
       "      <td>1000 Corks</td>\n",
       "      <td>Search</td>\n",
       "      <td>40000</td>\n",
       "      <td>operating</td>\n",
       "      <td>USA</td>\n",
       "      <td>Lake Oswego</td>\n",
       "      <td>1.0</td>\n",
       "      <td>2008-01-01</td>\n",
       "      <td>2008.0</td>\n",
       "      <td>2011-08-23</td>\n",
       "      <td>2011-08-23</td>\n",
       "      <td>40000.0</td>\n",
       "      <td>0.0</td>\n",
       "      <td>0.0</td>\n",
       "      <td>0.0</td>\n",
       "      <td>0.0</td>\n",
       "      <td>0.0</td>\n",
       "      <td>0.0</td>\n",
       "      <td>0.0</td>\n",
       "      <td>0.0</td>\n",
       "      <td>0.0</td>\n",
       "      <td>0.0</td>\n",
       "      <td>0.0</td>\n",
       "      <td>0.0</td>\n",
       "      <td>0.0</td>\n",
       "      <td>0.0</td>\n",
       "      <td>0.0</td>\n",
       "      <td>0.0</td>\n",
       "      <td>0.0</td>\n",
       "      <td>0.0</td>\n",
       "      <td>0.0</td>\n",
       "      <td>1330.0</td>\n",
       "      <td>5.0</td>\n",
       "      <td>1</td>\n",
       "      <td>21</td>\n",
       "    </tr>\n",
       "    <tr>\n",
       "      <th>15</th>\n",
       "      <td>/organization/100plus</td>\n",
       "      <td>100Plus</td>\n",
       "      <td>Analytics</td>\n",
       "      <td>1250000</td>\n",
       "      <td>acquired</td>\n",
       "      <td>USA</td>\n",
       "      <td>San Francisco</td>\n",
       "      <td>2.0</td>\n",
       "      <td>2011-09-16</td>\n",
       "      <td>2011.0</td>\n",
       "      <td>2011-11-02</td>\n",
       "      <td>2011-11-30</td>\n",
       "      <td>750000.0</td>\n",
       "      <td>500000.0</td>\n",
       "      <td>0.0</td>\n",
       "      <td>0.0</td>\n",
       "      <td>0.0</td>\n",
       "      <td>0.0</td>\n",
       "      <td>0.0</td>\n",
       "      <td>0.0</td>\n",
       "      <td>0.0</td>\n",
       "      <td>0.0</td>\n",
       "      <td>0.0</td>\n",
       "      <td>0.0</td>\n",
       "      <td>0.0</td>\n",
       "      <td>0.0</td>\n",
       "      <td>0.0</td>\n",
       "      <td>0.0</td>\n",
       "      <td>0.0</td>\n",
       "      <td>0.0</td>\n",
       "      <td>0.0</td>\n",
       "      <td>0.0</td>\n",
       "      <td>47.0</td>\n",
       "      <td>8.0</td>\n",
       "      <td>1</td>\n",
       "      <td>15</td>\n",
       "    </tr>\n",
       "    <tr>\n",
       "      <th>16</th>\n",
       "      <td>/organization/1010data</td>\n",
       "      <td>1010data</td>\n",
       "      <td>Software</td>\n",
       "      <td>35000000</td>\n",
       "      <td>operating</td>\n",
       "      <td>USA</td>\n",
       "      <td>New York</td>\n",
       "      <td>1.0</td>\n",
       "      <td>2000-01-01</td>\n",
       "      <td>2000.0</td>\n",
       "      <td>2010-03-08</td>\n",
       "      <td>2010-03-08</td>\n",
       "      <td>0.0</td>\n",
       "      <td>35000000.0</td>\n",
       "      <td>0.0</td>\n",
       "      <td>0.0</td>\n",
       "      <td>0.0</td>\n",
       "      <td>0.0</td>\n",
       "      <td>0.0</td>\n",
       "      <td>0.0</td>\n",
       "      <td>0.0</td>\n",
       "      <td>0.0</td>\n",
       "      <td>0.0</td>\n",
       "      <td>0.0</td>\n",
       "      <td>0.0</td>\n",
       "      <td>0.0</td>\n",
       "      <td>0.0</td>\n",
       "      <td>0.0</td>\n",
       "      <td>0.0</td>\n",
       "      <td>0.0</td>\n",
       "      <td>0.0</td>\n",
       "      <td>0.0</td>\n",
       "      <td>3719.0</td>\n",
       "      <td>8.0</td>\n",
       "      <td>1</td>\n",
       "      <td>1</td>\n",
       "    </tr>\n",
       "    <tr>\n",
       "      <th>18</th>\n",
       "      <td>/organization/10bestthings</td>\n",
       "      <td>10BestThings</td>\n",
       "      <td>Curated Web</td>\n",
       "      <td>50000</td>\n",
       "      <td>closed</td>\n",
       "      <td>USA</td>\n",
       "      <td>Cleveland</td>\n",
       "      <td>1.0</td>\n",
       "      <td>2009-04-01</td>\n",
       "      <td>2009.0</td>\n",
       "      <td>2009-04-01</td>\n",
       "      <td>2009-04-01</td>\n",
       "      <td>50000.0</td>\n",
       "      <td>0.0</td>\n",
       "      <td>0.0</td>\n",
       "      <td>0.0</td>\n",
       "      <td>0.0</td>\n",
       "      <td>0.0</td>\n",
       "      <td>0.0</td>\n",
       "      <td>0.0</td>\n",
       "      <td>0.0</td>\n",
       "      <td>0.0</td>\n",
       "      <td>0.0</td>\n",
       "      <td>0.0</td>\n",
       "      <td>0.0</td>\n",
       "      <td>0.0</td>\n",
       "      <td>0.0</td>\n",
       "      <td>0.0</td>\n",
       "      <td>0.0</td>\n",
       "      <td>0.0</td>\n",
       "      <td>0.0</td>\n",
       "      <td>0.0</td>\n",
       "      <td>0.0</td>\n",
       "      <td>5.0</td>\n",
       "      <td>1</td>\n",
       "      <td>6</td>\n",
       "    </tr>\n",
       "  </tbody>\n",
       "</table>\n",
       "</div>"
      ],
      "text/plain": [
       "                        permalink             name         market  \\\n",
       "8   /organization/10-minutes-with  10 Minutes With     Education    \n",
       "10       /organization/1000-corks       1000 Corks        Search    \n",
       "15          /organization/100plus          100Plus     Analytics    \n",
       "16         /organization/1010data         1010data      Software    \n",
       "18     /organization/10bestthings     10BestThings   Curated Web    \n",
       "\n",
       "    funding_total_usd     status country_code           city  funding_rounds  \\\n",
       "8             4400000  operating          GBR         London             2.0   \n",
       "10              40000  operating          USA    Lake Oswego             1.0   \n",
       "15            1250000   acquired          USA  San Francisco             2.0   \n",
       "16           35000000  operating          USA       New York             1.0   \n",
       "18              50000     closed          USA      Cleveland             1.0   \n",
       "\n",
       "    founded_at  founded_year first_funding_at last_funding_at      seed  \\\n",
       "8   2013-01-01        2013.0       2013-01-01      2014-10-09  400000.0   \n",
       "10  2008-01-01        2008.0       2011-08-23      2011-08-23   40000.0   \n",
       "15  2011-09-16        2011.0       2011-11-02      2011-11-30  750000.0   \n",
       "16  2000-01-01        2000.0       2010-03-08      2010-03-08       0.0   \n",
       "18  2009-04-01        2009.0       2009-04-01      2009-04-01   50000.0   \n",
       "\n",
       "       venture  equity_crowdfunding  convertible_note  debt_financing  angel  \\\n",
       "8    4000000.0                  0.0               0.0             0.0    0.0   \n",
       "10         0.0                  0.0               0.0             0.0    0.0   \n",
       "15    500000.0                  0.0               0.0             0.0    0.0   \n",
       "16  35000000.0                  0.0               0.0             0.0    0.0   \n",
       "18         0.0                  0.0               0.0             0.0    0.0   \n",
       "\n",
       "    grant  private_equity  post_ipo_equity  post_ipo_debt  secondary_market  \\\n",
       "8     0.0             0.0              0.0            0.0               0.0   \n",
       "10    0.0             0.0              0.0            0.0               0.0   \n",
       "15    0.0             0.0              0.0            0.0               0.0   \n",
       "16    0.0             0.0              0.0            0.0               0.0   \n",
       "18    0.0             0.0              0.0            0.0               0.0   \n",
       "\n",
       "    product_crowdfunding    round_A  round_B  round_C  round_D  round_E  \\\n",
       "8                    0.0  4000000.0      0.0      0.0      0.0      0.0   \n",
       "10                   0.0        0.0      0.0      0.0      0.0      0.0   \n",
       "15                   0.0        0.0      0.0      0.0      0.0      0.0   \n",
       "16                   0.0        0.0      0.0      0.0      0.0      0.0   \n",
       "18                   0.0        0.0      0.0      0.0      0.0      0.0   \n",
       "\n",
       "    round_F  round_G  round_H  delta_founded_vs_firstfunding  log_valuation  \\\n",
       "8       0.0      0.0      0.0                            0.0            7.0   \n",
       "10      0.0      0.0      0.0                         1330.0            5.0   \n",
       "15      0.0      0.0      0.0                           47.0            8.0   \n",
       "16      0.0      0.0      0.0                         3719.0            8.0   \n",
       "18      0.0      0.0      0.0                            0.0            5.0   \n",
       "\n",
       "    country_ranking  market_ranking  \n",
       "8                 2              14  \n",
       "10                1              21  \n",
       "15                1              15  \n",
       "16                1               1  \n",
       "18                1               6  "
      ]
     },
     "execution_count": 44,
     "metadata": {},
     "output_type": "execute_result"
    }
   ],
   "source": [
    "startups.head()"
   ]
  },
  {
   "cell_type": "markdown",
   "id": "9a0ce3d8",
   "metadata": {},
   "source": [
    "### Let's now build the model"
   ]
  },
  {
   "cell_type": "code",
   "execution_count": 45,
   "id": "a3240f3c",
   "metadata": {},
   "outputs": [],
   "source": [
    "from sklearn.tree import DecisionTreeRegressor as DTR\n",
    "from sklearn.model_selection import train_test_split as tts\n",
    "from sklearn.metrics import mean_squared_error"
   ]
  },
  {
   "cell_type": "code",
   "execution_count": 47,
   "id": "7e97c350",
   "metadata": {},
   "outputs": [
    {
     "data": {
      "text/html": [
       "<div>\n",
       "<style scoped>\n",
       "    .dataframe tbody tr th:only-of-type {\n",
       "        vertical-align: middle;\n",
       "    }\n",
       "\n",
       "    .dataframe tbody tr th {\n",
       "        vertical-align: top;\n",
       "    }\n",
       "\n",
       "    .dataframe thead th {\n",
       "        text-align: right;\n",
       "    }\n",
       "</style>\n",
       "<table border=\"1\" class=\"dataframe\">\n",
       "  <thead>\n",
       "    <tr style=\"text-align: right;\">\n",
       "      <th></th>\n",
       "      <th>permalink</th>\n",
       "      <th>name</th>\n",
       "      <th>market</th>\n",
       "      <th>funding_total_usd</th>\n",
       "      <th>status</th>\n",
       "      <th>country_code</th>\n",
       "      <th>city</th>\n",
       "      <th>funding_rounds</th>\n",
       "      <th>founded_at</th>\n",
       "      <th>founded_year</th>\n",
       "      <th>first_funding_at</th>\n",
       "      <th>last_funding_at</th>\n",
       "      <th>seed</th>\n",
       "      <th>venture</th>\n",
       "      <th>equity_crowdfunding</th>\n",
       "      <th>convertible_note</th>\n",
       "      <th>debt_financing</th>\n",
       "      <th>angel</th>\n",
       "      <th>grant</th>\n",
       "      <th>private_equity</th>\n",
       "      <th>post_ipo_equity</th>\n",
       "      <th>post_ipo_debt</th>\n",
       "      <th>secondary_market</th>\n",
       "      <th>product_crowdfunding</th>\n",
       "      <th>round_A</th>\n",
       "      <th>round_B</th>\n",
       "      <th>round_C</th>\n",
       "      <th>round_D</th>\n",
       "      <th>round_E</th>\n",
       "      <th>round_F</th>\n",
       "      <th>round_G</th>\n",
       "      <th>round_H</th>\n",
       "      <th>delta_founded_vs_firstfunding</th>\n",
       "      <th>log_valuation</th>\n",
       "      <th>country_ranking</th>\n",
       "      <th>market_ranking</th>\n",
       "    </tr>\n",
       "  </thead>\n",
       "  <tbody>\n",
       "    <tr>\n",
       "      <th>8</th>\n",
       "      <td>/organization/10-minutes-with</td>\n",
       "      <td>10 Minutes With</td>\n",
       "      <td>Education</td>\n",
       "      <td>4400000</td>\n",
       "      <td>operating</td>\n",
       "      <td>GBR</td>\n",
       "      <td>London</td>\n",
       "      <td>2.0</td>\n",
       "      <td>2013-01-01</td>\n",
       "      <td>2013.0</td>\n",
       "      <td>2013-01-01</td>\n",
       "      <td>2014-10-09</td>\n",
       "      <td>400000.0</td>\n",
       "      <td>4000000.0</td>\n",
       "      <td>0.0</td>\n",
       "      <td>0.0</td>\n",
       "      <td>0.0</td>\n",
       "      <td>0.0</td>\n",
       "      <td>0.0</td>\n",
       "      <td>0.0</td>\n",
       "      <td>0.0</td>\n",
       "      <td>0.0</td>\n",
       "      <td>0.0</td>\n",
       "      <td>0.0</td>\n",
       "      <td>4000000.0</td>\n",
       "      <td>0.0</td>\n",
       "      <td>0.0</td>\n",
       "      <td>0.0</td>\n",
       "      <td>0.0</td>\n",
       "      <td>0.0</td>\n",
       "      <td>0.0</td>\n",
       "      <td>0.0</td>\n",
       "      <td>0.0</td>\n",
       "      <td>7.0</td>\n",
       "      <td>2</td>\n",
       "      <td>14</td>\n",
       "    </tr>\n",
       "    <tr>\n",
       "      <th>10</th>\n",
       "      <td>/organization/1000-corks</td>\n",
       "      <td>1000 Corks</td>\n",
       "      <td>Search</td>\n",
       "      <td>40000</td>\n",
       "      <td>operating</td>\n",
       "      <td>USA</td>\n",
       "      <td>Lake Oswego</td>\n",
       "      <td>1.0</td>\n",
       "      <td>2008-01-01</td>\n",
       "      <td>2008.0</td>\n",
       "      <td>2011-08-23</td>\n",
       "      <td>2011-08-23</td>\n",
       "      <td>40000.0</td>\n",
       "      <td>0.0</td>\n",
       "      <td>0.0</td>\n",
       "      <td>0.0</td>\n",
       "      <td>0.0</td>\n",
       "      <td>0.0</td>\n",
       "      <td>0.0</td>\n",
       "      <td>0.0</td>\n",
       "      <td>0.0</td>\n",
       "      <td>0.0</td>\n",
       "      <td>0.0</td>\n",
       "      <td>0.0</td>\n",
       "      <td>0.0</td>\n",
       "      <td>0.0</td>\n",
       "      <td>0.0</td>\n",
       "      <td>0.0</td>\n",
       "      <td>0.0</td>\n",
       "      <td>0.0</td>\n",
       "      <td>0.0</td>\n",
       "      <td>0.0</td>\n",
       "      <td>1330.0</td>\n",
       "      <td>5.0</td>\n",
       "      <td>1</td>\n",
       "      <td>21</td>\n",
       "    </tr>\n",
       "    <tr>\n",
       "      <th>15</th>\n",
       "      <td>/organization/100plus</td>\n",
       "      <td>100Plus</td>\n",
       "      <td>Analytics</td>\n",
       "      <td>1250000</td>\n",
       "      <td>acquired</td>\n",
       "      <td>USA</td>\n",
       "      <td>San Francisco</td>\n",
       "      <td>2.0</td>\n",
       "      <td>2011-09-16</td>\n",
       "      <td>2011.0</td>\n",
       "      <td>2011-11-02</td>\n",
       "      <td>2011-11-30</td>\n",
       "      <td>750000.0</td>\n",
       "      <td>500000.0</td>\n",
       "      <td>0.0</td>\n",
       "      <td>0.0</td>\n",
       "      <td>0.0</td>\n",
       "      <td>0.0</td>\n",
       "      <td>0.0</td>\n",
       "      <td>0.0</td>\n",
       "      <td>0.0</td>\n",
       "      <td>0.0</td>\n",
       "      <td>0.0</td>\n",
       "      <td>0.0</td>\n",
       "      <td>0.0</td>\n",
       "      <td>0.0</td>\n",
       "      <td>0.0</td>\n",
       "      <td>0.0</td>\n",
       "      <td>0.0</td>\n",
       "      <td>0.0</td>\n",
       "      <td>0.0</td>\n",
       "      <td>0.0</td>\n",
       "      <td>47.0</td>\n",
       "      <td>8.0</td>\n",
       "      <td>1</td>\n",
       "      <td>15</td>\n",
       "    </tr>\n",
       "    <tr>\n",
       "      <th>16</th>\n",
       "      <td>/organization/1010data</td>\n",
       "      <td>1010data</td>\n",
       "      <td>Software</td>\n",
       "      <td>35000000</td>\n",
       "      <td>operating</td>\n",
       "      <td>USA</td>\n",
       "      <td>New York</td>\n",
       "      <td>1.0</td>\n",
       "      <td>2000-01-01</td>\n",
       "      <td>2000.0</td>\n",
       "      <td>2010-03-08</td>\n",
       "      <td>2010-03-08</td>\n",
       "      <td>0.0</td>\n",
       "      <td>35000000.0</td>\n",
       "      <td>0.0</td>\n",
       "      <td>0.0</td>\n",
       "      <td>0.0</td>\n",
       "      <td>0.0</td>\n",
       "      <td>0.0</td>\n",
       "      <td>0.0</td>\n",
       "      <td>0.0</td>\n",
       "      <td>0.0</td>\n",
       "      <td>0.0</td>\n",
       "      <td>0.0</td>\n",
       "      <td>0.0</td>\n",
       "      <td>0.0</td>\n",
       "      <td>0.0</td>\n",
       "      <td>0.0</td>\n",
       "      <td>0.0</td>\n",
       "      <td>0.0</td>\n",
       "      <td>0.0</td>\n",
       "      <td>0.0</td>\n",
       "      <td>3719.0</td>\n",
       "      <td>8.0</td>\n",
       "      <td>1</td>\n",
       "      <td>1</td>\n",
       "    </tr>\n",
       "    <tr>\n",
       "      <th>18</th>\n",
       "      <td>/organization/10bestthings</td>\n",
       "      <td>10BestThings</td>\n",
       "      <td>Curated Web</td>\n",
       "      <td>50000</td>\n",
       "      <td>closed</td>\n",
       "      <td>USA</td>\n",
       "      <td>Cleveland</td>\n",
       "      <td>1.0</td>\n",
       "      <td>2009-04-01</td>\n",
       "      <td>2009.0</td>\n",
       "      <td>2009-04-01</td>\n",
       "      <td>2009-04-01</td>\n",
       "      <td>50000.0</td>\n",
       "      <td>0.0</td>\n",
       "      <td>0.0</td>\n",
       "      <td>0.0</td>\n",
       "      <td>0.0</td>\n",
       "      <td>0.0</td>\n",
       "      <td>0.0</td>\n",
       "      <td>0.0</td>\n",
       "      <td>0.0</td>\n",
       "      <td>0.0</td>\n",
       "      <td>0.0</td>\n",
       "      <td>0.0</td>\n",
       "      <td>0.0</td>\n",
       "      <td>0.0</td>\n",
       "      <td>0.0</td>\n",
       "      <td>0.0</td>\n",
       "      <td>0.0</td>\n",
       "      <td>0.0</td>\n",
       "      <td>0.0</td>\n",
       "      <td>0.0</td>\n",
       "      <td>0.0</td>\n",
       "      <td>5.0</td>\n",
       "      <td>1</td>\n",
       "      <td>6</td>\n",
       "    </tr>\n",
       "  </tbody>\n",
       "</table>\n",
       "</div>"
      ],
      "text/plain": [
       "                        permalink             name         market  \\\n",
       "8   /organization/10-minutes-with  10 Minutes With     Education    \n",
       "10       /organization/1000-corks       1000 Corks        Search    \n",
       "15          /organization/100plus          100Plus     Analytics    \n",
       "16         /organization/1010data         1010data      Software    \n",
       "18     /organization/10bestthings     10BestThings   Curated Web    \n",
       "\n",
       "    funding_total_usd     status country_code           city  funding_rounds  \\\n",
       "8             4400000  operating          GBR         London             2.0   \n",
       "10              40000  operating          USA    Lake Oswego             1.0   \n",
       "15            1250000   acquired          USA  San Francisco             2.0   \n",
       "16           35000000  operating          USA       New York             1.0   \n",
       "18              50000     closed          USA      Cleveland             1.0   \n",
       "\n",
       "    founded_at  founded_year first_funding_at last_funding_at      seed  \\\n",
       "8   2013-01-01        2013.0       2013-01-01      2014-10-09  400000.0   \n",
       "10  2008-01-01        2008.0       2011-08-23      2011-08-23   40000.0   \n",
       "15  2011-09-16        2011.0       2011-11-02      2011-11-30  750000.0   \n",
       "16  2000-01-01        2000.0       2010-03-08      2010-03-08       0.0   \n",
       "18  2009-04-01        2009.0       2009-04-01      2009-04-01   50000.0   \n",
       "\n",
       "       venture  equity_crowdfunding  convertible_note  debt_financing  angel  \\\n",
       "8    4000000.0                  0.0               0.0             0.0    0.0   \n",
       "10         0.0                  0.0               0.0             0.0    0.0   \n",
       "15    500000.0                  0.0               0.0             0.0    0.0   \n",
       "16  35000000.0                  0.0               0.0             0.0    0.0   \n",
       "18         0.0                  0.0               0.0             0.0    0.0   \n",
       "\n",
       "    grant  private_equity  post_ipo_equity  post_ipo_debt  secondary_market  \\\n",
       "8     0.0             0.0              0.0            0.0               0.0   \n",
       "10    0.0             0.0              0.0            0.0               0.0   \n",
       "15    0.0             0.0              0.0            0.0               0.0   \n",
       "16    0.0             0.0              0.0            0.0               0.0   \n",
       "18    0.0             0.0              0.0            0.0               0.0   \n",
       "\n",
       "    product_crowdfunding    round_A  round_B  round_C  round_D  round_E  \\\n",
       "8                    0.0  4000000.0      0.0      0.0      0.0      0.0   \n",
       "10                   0.0        0.0      0.0      0.0      0.0      0.0   \n",
       "15                   0.0        0.0      0.0      0.0      0.0      0.0   \n",
       "16                   0.0        0.0      0.0      0.0      0.0      0.0   \n",
       "18                   0.0        0.0      0.0      0.0      0.0      0.0   \n",
       "\n",
       "    round_F  round_G  round_H  delta_founded_vs_firstfunding  log_valuation  \\\n",
       "8       0.0      0.0      0.0                            0.0            7.0   \n",
       "10      0.0      0.0      0.0                         1330.0            5.0   \n",
       "15      0.0      0.0      0.0                           47.0            8.0   \n",
       "16      0.0      0.0      0.0                         3719.0            8.0   \n",
       "18      0.0      0.0      0.0                            0.0            5.0   \n",
       "\n",
       "    country_ranking  market_ranking  \n",
       "8                 2              14  \n",
       "10                1              21  \n",
       "15                1              15  \n",
       "16                1               1  \n",
       "18                1               6  "
      ]
     },
     "execution_count": 47,
     "metadata": {},
     "output_type": "execute_result"
    }
   ],
   "source": [
    "startups.head()"
   ]
  },
  {
   "cell_type": "markdown",
   "id": "d772532a",
   "metadata": {},
   "source": [
    "### We will operate with the following variables, the rest we will drop: funding_total_usd, funding_rounds, founded_year, delta_founded_vs_firstfunding, log_valuation, country_ranking, market_ranking"
   ]
  },
  {
   "cell_type": "code",
   "execution_count": 48,
   "id": "a974db84",
   "metadata": {},
   "outputs": [],
   "source": [
    "startups.drop(['permalink', 'name', 'market','status', 'country_code', 'city', 'founded_at', 'first_funding_at', 'last_funding_at', 'seed', 'venture', 'equity_crowdfunding', 'convertible_note', 'debt_financing', 'angel', 'grant', 'private_equity', 'post_ipo_equity', 'post_ipo_debt', 'secondary_market', 'product_crowdfunding', 'round_A', 'round_B', 'round_C', 'round_D', 'round_E', 'round_F', 'round_G', 'round_H'], axis=1, inplace=True)"
   ]
  },
  {
   "cell_type": "code",
   "execution_count": 49,
   "id": "32cbce5c",
   "metadata": {},
   "outputs": [
    {
     "data": {
      "text/html": [
       "<div>\n",
       "<style scoped>\n",
       "    .dataframe tbody tr th:only-of-type {\n",
       "        vertical-align: middle;\n",
       "    }\n",
       "\n",
       "    .dataframe tbody tr th {\n",
       "        vertical-align: top;\n",
       "    }\n",
       "\n",
       "    .dataframe thead th {\n",
       "        text-align: right;\n",
       "    }\n",
       "</style>\n",
       "<table border=\"1\" class=\"dataframe\">\n",
       "  <thead>\n",
       "    <tr style=\"text-align: right;\">\n",
       "      <th></th>\n",
       "      <th>funding_total_usd</th>\n",
       "      <th>funding_rounds</th>\n",
       "      <th>founded_year</th>\n",
       "      <th>delta_founded_vs_firstfunding</th>\n",
       "      <th>log_valuation</th>\n",
       "      <th>country_ranking</th>\n",
       "      <th>market_ranking</th>\n",
       "    </tr>\n",
       "  </thead>\n",
       "  <tbody>\n",
       "    <tr>\n",
       "      <th>8</th>\n",
       "      <td>4400000</td>\n",
       "      <td>2.0</td>\n",
       "      <td>2013.0</td>\n",
       "      <td>0.0</td>\n",
       "      <td>7.0</td>\n",
       "      <td>2</td>\n",
       "      <td>14</td>\n",
       "    </tr>\n",
       "    <tr>\n",
       "      <th>10</th>\n",
       "      <td>40000</td>\n",
       "      <td>1.0</td>\n",
       "      <td>2008.0</td>\n",
       "      <td>1330.0</td>\n",
       "      <td>5.0</td>\n",
       "      <td>1</td>\n",
       "      <td>21</td>\n",
       "    </tr>\n",
       "    <tr>\n",
       "      <th>15</th>\n",
       "      <td>1250000</td>\n",
       "      <td>2.0</td>\n",
       "      <td>2011.0</td>\n",
       "      <td>47.0</td>\n",
       "      <td>8.0</td>\n",
       "      <td>1</td>\n",
       "      <td>15</td>\n",
       "    </tr>\n",
       "    <tr>\n",
       "      <th>16</th>\n",
       "      <td>35000000</td>\n",
       "      <td>1.0</td>\n",
       "      <td>2000.0</td>\n",
       "      <td>3719.0</td>\n",
       "      <td>8.0</td>\n",
       "      <td>1</td>\n",
       "      <td>1</td>\n",
       "    </tr>\n",
       "    <tr>\n",
       "      <th>18</th>\n",
       "      <td>50000</td>\n",
       "      <td>1.0</td>\n",
       "      <td>2009.0</td>\n",
       "      <td>0.0</td>\n",
       "      <td>5.0</td>\n",
       "      <td>1</td>\n",
       "      <td>6</td>\n",
       "    </tr>\n",
       "  </tbody>\n",
       "</table>\n",
       "</div>"
      ],
      "text/plain": [
       "    funding_total_usd  funding_rounds  founded_year  \\\n",
       "8             4400000             2.0        2013.0   \n",
       "10              40000             1.0        2008.0   \n",
       "15            1250000             2.0        2011.0   \n",
       "16           35000000             1.0        2000.0   \n",
       "18              50000             1.0        2009.0   \n",
       "\n",
       "    delta_founded_vs_firstfunding  log_valuation  country_ranking  \\\n",
       "8                             0.0            7.0                2   \n",
       "10                         1330.0            5.0                1   \n",
       "15                           47.0            8.0                1   \n",
       "16                         3719.0            8.0                1   \n",
       "18                            0.0            5.0                1   \n",
       "\n",
       "    market_ranking  \n",
       "8               14  \n",
       "10              21  \n",
       "15              15  \n",
       "16               1  \n",
       "18               6  "
      ]
     },
     "execution_count": 49,
     "metadata": {},
     "output_type": "execute_result"
    }
   ],
   "source": [
    "startups.head()"
   ]
  },
  {
   "cell_type": "code",
   "execution_count": 51,
   "id": "a35c0198",
   "metadata": {},
   "outputs": [],
   "source": [
    "X = startups.drop(\"log_valuation\", axis=1)"
   ]
  },
  {
   "cell_type": "code",
   "execution_count": 52,
   "id": "f7c7a6db",
   "metadata": {},
   "outputs": [],
   "source": [
    "y = startups.log_valuation"
   ]
  },
  {
   "cell_type": "code",
   "execution_count": 54,
   "id": "3d662db1",
   "metadata": {},
   "outputs": [],
   "source": [
    "from sklearn.model_selection import train_test_split"
   ]
  },
  {
   "cell_type": "code",
   "execution_count": 55,
   "id": "3c928729",
   "metadata": {},
   "outputs": [],
   "source": [
    "X_train, X_test, y_train, y_test = train_test_split(X, y, test_size=0.2, random_state=666)"
   ]
  },
  {
   "cell_type": "code",
   "execution_count": 56,
   "id": "fc963c14",
   "metadata": {},
   "outputs": [],
   "source": [
    "tree_1 = DTR(max_depth=1)"
   ]
  },
  {
   "cell_type": "code",
   "execution_count": 57,
   "id": "dc520aad",
   "metadata": {},
   "outputs": [
    {
     "data": {
      "text/plain": [
       "DecisionTreeRegressor(max_depth=1)"
      ]
     },
     "execution_count": 57,
     "metadata": {},
     "output_type": "execute_result"
    }
   ],
   "source": [
    "tree_1.fit(X_train,y_train)"
   ]
  },
  {
   "cell_type": "code",
   "execution_count": 58,
   "id": "edab07c4",
   "metadata": {},
   "outputs": [
    {
     "data": {
      "text/plain": [
       "11075    7.0\n",
       "15128    7.0\n",
       "21322    7.0\n",
       "17998    7.0\n",
       "24582    6.0\n",
       "Name: log_valuation, dtype: float64"
      ]
     },
     "execution_count": 58,
     "metadata": {},
     "output_type": "execute_result"
    }
   ],
   "source": [
    "y_train[:5]"
   ]
  },
  {
   "cell_type": "code",
   "execution_count": 59,
   "id": "553fcf18",
   "metadata": {},
   "outputs": [
    {
     "data": {
      "text/plain": [
       "array([6.09541833, 7.53409091, 7.53409091, 7.53409091, 6.09541833])"
      ]
     },
     "execution_count": 59,
     "metadata": {},
     "output_type": "execute_result"
    }
   ],
   "source": [
    "tree_1.predict(X_train[:5].values)"
   ]
  },
  {
   "cell_type": "markdown",
   "id": "00705e38",
   "metadata": {},
   "source": [
    "### Let's look at the train error and test error"
   ]
  },
  {
   "cell_type": "code",
   "execution_count": 60,
   "id": "de3c3ca4",
   "metadata": {},
   "outputs": [
    {
     "data": {
      "text/plain": [
       "0.734"
      ]
     },
     "execution_count": 60,
     "metadata": {},
     "output_type": "execute_result"
    }
   ],
   "source": [
    "mean_squared_error(\n",
    "    y_true=y_train,\n",
    "    y_pred=tree_1.predict(X_train)\n",
    ").round(3)"
   ]
  },
  {
   "cell_type": "code",
   "execution_count": 61,
   "id": "08fd905f",
   "metadata": {},
   "outputs": [
    {
     "data": {
      "text/plain": [
       "0.72"
      ]
     },
     "execution_count": 61,
     "metadata": {},
     "output_type": "execute_result"
    }
   ],
   "source": [
    "mean_squared_error(\n",
    "    y_true=y_test,\n",
    "    y_pred=tree_1.predict(X_test)\n",
    ").round(3)"
   ]
  },
  {
   "cell_type": "code",
   "execution_count": 63,
   "id": "6aeaaed2",
   "metadata": {},
   "outputs": [],
   "source": [
    "from sklearn.tree import plot_tree"
   ]
  },
  {
   "cell_type": "code",
   "execution_count": 64,
   "id": "f8e6fc32",
   "metadata": {},
   "outputs": [],
   "source": [
    "import matplotlib.pyplot as plt"
   ]
  },
  {
   "cell_type": "code",
   "execution_count": 67,
   "id": "1a5c89bf",
   "metadata": {},
   "outputs": [
    {
     "data": {
      "image/png": "[encoded data removed]",
      "text/plain": [
       "<Figure size 720x432 with 1 Axes>"
      ]
     },
     "metadata": {
      "needs_background": "light"
     },
     "output_type": "display_data"
    }
   ],
   "source": [
    "fig = plt.figure(figsize=(10, 6))\n",
    "plot_tree(tree_1, feature_names=startups.columns[:-1], filled=True);"
   ]
  },
  {
   "cell_type": "markdown",
   "id": "3ad407e3",
   "metadata": {},
   "source": [
    "### Let's now try with a deeper model of depth 3"
   ]
  },
  {
   "cell_type": "code",
   "execution_count": 68,
   "id": "c2d73dd1",
   "metadata": {},
   "outputs": [],
   "source": [
    "tree_3 = DTR(max_depth=3)"
   ]
  },
  {
   "cell_type": "code",
   "execution_count": 69,
   "id": "ac42a099",
   "metadata": {},
   "outputs": [
    {
     "data": {
      "text/plain": [
       "11075    7.0\n",
       "15128    7.0\n",
       "21322    7.0\n",
       "17998    7.0\n",
       "24582    6.0\n",
       "3677     8.0\n",
       "24178    8.0\n",
       "29335    4.0\n",
       "2732     6.0\n",
       "14269    6.0\n",
       "22748    8.0\n",
       "21258    6.0\n",
       "23845    9.0\n",
       "24839    6.0\n",
       "10903    7.0\n",
       "Name: log_valuation, dtype: float64"
      ]
     },
     "execution_count": 69,
     "metadata": {},
     "output_type": "execute_result"
    }
   ],
   "source": [
    "y_train[:15]"
   ]
  },
  {
   "cell_type": "code",
   "execution_count": 71,
   "id": "a57937d7",
   "metadata": {},
   "outputs": [
    {
     "data": {
      "text/plain": [
       "DecisionTreeRegressor(max_depth=3)"
      ]
     },
     "execution_count": 71,
     "metadata": {},
     "output_type": "execute_result"
    }
   ],
   "source": [
    "tree_3.fit(X_train, y_train)"
   ]
  },
  {
   "cell_type": "code",
   "execution_count": 72,
   "id": "1add67c3",
   "metadata": {},
   "outputs": [
    {
     "data": {
      "text/plain": [
       "array([6.21, 7.82, 6.96, 7.82, 7.18, 8.55, 7.82, 5.2 , 5.2 , 7.82, 5.2 ,\n",
       "       6.21, 7.18, 6.21, 7.15])"
      ]
     },
     "execution_count": 72,
     "metadata": {},
     "output_type": "execute_result"
    }
   ],
   "source": [
    "tree_3.predict(X_train[:15].values).round(2)"
   ]
  },
  {
   "cell_type": "markdown",
   "id": "a00b01c7",
   "metadata": {},
   "source": [
    "### Let's look at the errors..."
   ]
  },
  {
   "cell_type": "code",
   "execution_count": 73,
   "id": "5d75a9f8",
   "metadata": {},
   "outputs": [
    {
     "data": {
      "text/plain": [
       "0.461"
      ]
     },
     "execution_count": 73,
     "metadata": {},
     "output_type": "execute_result"
    }
   ],
   "source": [
    "mean_squared_error(\n",
    "    y_true=y_train,\n",
    "    y_pred=tree_3.predict(X_train)\n",
    ").round(3)"
   ]
  },
  {
   "cell_type": "code",
   "execution_count": 74,
   "id": "ed3afaad",
   "metadata": {},
   "outputs": [
    {
     "data": {
      "text/plain": [
       "0.471"
      ]
     },
     "execution_count": 74,
     "metadata": {},
     "output_type": "execute_result"
    }
   ],
   "source": [
    "mean_squared_error(\n",
    "    y_true=y_test,\n",
    "    y_pred=tree_3.predict(X_test)\n",
    ").round(3)"
   ]
  },
  {
   "cell_type": "markdown",
   "id": "0b447955",
   "metadata": {},
   "source": [
    "### Looking better!"
   ]
  },
  {
   "cell_type": "code",
   "execution_count": 76,
   "id": "671dbb4b",
   "metadata": {},
   "outputs": [
    {
     "data": {
      "image/png": "[encoded data removed]",
      "text/plain": [
       "<Figure size 1800x1440 with 1 Axes>"
      ]
     },
     "metadata": {
      "needs_background": "light"
     },
     "output_type": "display_data"
    }
   ],
   "source": [
    "fig = plt.figure(figsize=(25,20))\n",
    "plot_tree(tree_3, feature_names=startups.columns[:-1], filled=True);"
   ]
  },
  {
   "cell_type": "code",
   "execution_count": 77,
   "id": "4bf00982",
   "metadata": {},
   "outputs": [],
   "source": [
    "fig.savefig(\"tree_depth3.svg\")"
   ]
  },
  {
   "cell_type": "markdown",
   "id": "53d2c4d2",
   "metadata": {},
   "source": [
    "### Let's now look at a much more deeper tree of 20"
   ]
  },
  {
   "cell_type": "code",
   "execution_count": 78,
   "id": "06c51625",
   "metadata": {},
   "outputs": [],
   "source": [
    "tree_20 = DTR(max_depth=20)"
   ]
  },
  {
   "cell_type": "code",
   "execution_count": 79,
   "id": "3f685de7",
   "metadata": {},
   "outputs": [
    {
     "data": {
      "text/plain": [
       "DecisionTreeRegressor(max_depth=20)"
      ]
     },
     "execution_count": 79,
     "metadata": {},
     "output_type": "execute_result"
    }
   ],
   "source": [
    "tree_20.fit(X_train, y_train)"
   ]
  },
  {
   "cell_type": "markdown",
   "id": "a7bbe019",
   "metadata": {},
   "source": [
    "### Let's look at the errors..."
   ]
  },
  {
   "cell_type": "code",
   "execution_count": 80,
   "id": "2aeeff51",
   "metadata": {},
   "outputs": [
    {
     "data": {
      "text/plain": [
       "0.03369372447389006"
      ]
     },
     "execution_count": 80,
     "metadata": {},
     "output_type": "execute_result"
    }
   ],
   "source": [
    "mean_squared_error(\n",
    "    y_true=y_train,\n",
    "    y_pred=tree_20.predict(X_train)\n",
    ")"
   ]
  },
  {
   "cell_type": "code",
   "execution_count": 81,
   "id": "fe80b1ef",
   "metadata": {},
   "outputs": [
    {
     "data": {
      "text/plain": [
       "0.7718414582522616"
      ]
     },
     "execution_count": 81,
     "metadata": {},
     "output_type": "execute_result"
    }
   ],
   "source": [
    "mean_squared_error(\n",
    "    y_true=y_test,\n",
    "    y_pred=tree_20.predict(X_test)\n",
    ")"
   ]
  },
  {
   "cell_type": "markdown",
   "id": "62700230",
   "metadata": {},
   "source": [
    "### There's a clear case of overfitting in this case"
   ]
  },
  {
   "cell_type": "markdown",
   "id": "b9fe426d",
   "metadata": {},
   "source": [
    "### Let's analyse errors in training depending on depth"
   ]
  },
  {
   "cell_type": "code",
   "execution_count": 83,
   "id": "50728e82",
   "metadata": {},
   "outputs": [],
   "source": [
    "results = []\n",
    "\n",
    "for depth in range(1, 21):\n",
    "    tree = DTR(max_depth=depth)\n",
    "    tree.fit(X_train, y_train)\n",
    "    \n",
    "    result = {\n",
    "        \"model\": tree,\n",
    "        \"depth\": depth,\n",
    "        \"train_error\": mean_squared_error(y_train, tree.predict(X_train)),\n",
    "        \"test_error\": mean_squared_error(y_test, tree.predict(X_test))\n",
    "    }\n",
    "    \n",
    "    results.append(result)"
   ]
  },
  {
   "cell_type": "code",
   "execution_count": 84,
   "id": "0c7781af",
   "metadata": {},
   "outputs": [],
   "source": [
    "results_df = pd.DataFrame(results)"
   ]
  },
  {
   "cell_type": "code",
   "execution_count": 85,
   "id": "919786bf",
   "metadata": {},
   "outputs": [
    {
     "data": {
      "text/html": [
       "<div>\n",
       "<style scoped>\n",
       "    .dataframe tbody tr th:only-of-type {\n",
       "        vertical-align: middle;\n",
       "    }\n",
       "\n",
       "    .dataframe tbody tr th {\n",
       "        vertical-align: top;\n",
       "    }\n",
       "\n",
       "    .dataframe thead th {\n",
       "        text-align: right;\n",
       "    }\n",
       "</style>\n",
       "<table border=\"1\" class=\"dataframe\">\n",
       "  <thead>\n",
       "    <tr style=\"text-align: right;\">\n",
       "      <th></th>\n",
       "      <th>model</th>\n",
       "      <th>depth</th>\n",
       "      <th>train_error</th>\n",
       "      <th>test_error</th>\n",
       "    </tr>\n",
       "  </thead>\n",
       "  <tbody>\n",
       "    <tr>\n",
       "      <th>0</th>\n",
       "      <td>DecisionTreeRegressor(max_depth=1)</td>\n",
       "      <td>1</td>\n",
       "      <td>0.734203</td>\n",
       "      <td>0.719604</td>\n",
       "    </tr>\n",
       "    <tr>\n",
       "      <th>1</th>\n",
       "      <td>DecisionTreeRegressor(max_depth=2)</td>\n",
       "      <td>2</td>\n",
       "      <td>0.549366</td>\n",
       "      <td>0.546348</td>\n",
       "    </tr>\n",
       "    <tr>\n",
       "      <th>2</th>\n",
       "      <td>DecisionTreeRegressor(max_depth=3)</td>\n",
       "      <td>3</td>\n",
       "      <td>0.460825</td>\n",
       "      <td>0.470945</td>\n",
       "    </tr>\n",
       "    <tr>\n",
       "      <th>3</th>\n",
       "      <td>DecisionTreeRegressor(max_depth=4)</td>\n",
       "      <td>4</td>\n",
       "      <td>0.435967</td>\n",
       "      <td>0.448742</td>\n",
       "    </tr>\n",
       "    <tr>\n",
       "      <th>4</th>\n",
       "      <td>DecisionTreeRegressor(max_depth=5)</td>\n",
       "      <td>5</td>\n",
       "      <td>0.414601</td>\n",
       "      <td>0.434329</td>\n",
       "    </tr>\n",
       "    <tr>\n",
       "      <th>5</th>\n",
       "      <td>DecisionTreeRegressor(max_depth=6)</td>\n",
       "      <td>6</td>\n",
       "      <td>0.397928</td>\n",
       "      <td>0.433328</td>\n",
       "    </tr>\n",
       "    <tr>\n",
       "      <th>6</th>\n",
       "      <td>DecisionTreeRegressor(max_depth=7)</td>\n",
       "      <td>7</td>\n",
       "      <td>0.381929</td>\n",
       "      <td>0.439821</td>\n",
       "    </tr>\n",
       "    <tr>\n",
       "      <th>7</th>\n",
       "      <td>DecisionTreeRegressor(max_depth=8)</td>\n",
       "      <td>8</td>\n",
       "      <td>0.362469</td>\n",
       "      <td>0.444440</td>\n",
       "    </tr>\n",
       "    <tr>\n",
       "      <th>8</th>\n",
       "      <td>DecisionTreeRegressor(max_depth=9)</td>\n",
       "      <td>9</td>\n",
       "      <td>0.339345</td>\n",
       "      <td>0.445975</td>\n",
       "    </tr>\n",
       "    <tr>\n",
       "      <th>9</th>\n",
       "      <td>DecisionTreeRegressor(max_depth=10)</td>\n",
       "      <td>10</td>\n",
       "      <td>0.310471</td>\n",
       "      <td>0.480573</td>\n",
       "    </tr>\n",
       "    <tr>\n",
       "      <th>10</th>\n",
       "      <td>DecisionTreeRegressor(max_depth=11)</td>\n",
       "      <td>11</td>\n",
       "      <td>0.279415</td>\n",
       "      <td>0.523109</td>\n",
       "    </tr>\n",
       "    <tr>\n",
       "      <th>11</th>\n",
       "      <td>DecisionTreeRegressor(max_depth=12)</td>\n",
       "      <td>12</td>\n",
       "      <td>0.242880</td>\n",
       "      <td>0.571701</td>\n",
       "    </tr>\n",
       "    <tr>\n",
       "      <th>12</th>\n",
       "      <td>DecisionTreeRegressor(max_depth=13)</td>\n",
       "      <td>13</td>\n",
       "      <td>0.205886</td>\n",
       "      <td>0.615264</td>\n",
       "    </tr>\n",
       "    <tr>\n",
       "      <th>13</th>\n",
       "      <td>DecisionTreeRegressor(max_depth=14)</td>\n",
       "      <td>14</td>\n",
       "      <td>0.170926</td>\n",
       "      <td>0.640899</td>\n",
       "    </tr>\n",
       "    <tr>\n",
       "      <th>14</th>\n",
       "      <td>DecisionTreeRegressor(max_depth=15)</td>\n",
       "      <td>15</td>\n",
       "      <td>0.136992</td>\n",
       "      <td>0.672819</td>\n",
       "    </tr>\n",
       "    <tr>\n",
       "      <th>15</th>\n",
       "      <td>DecisionTreeRegressor(max_depth=16)</td>\n",
       "      <td>16</td>\n",
       "      <td>0.106043</td>\n",
       "      <td>0.714045</td>\n",
       "    </tr>\n",
       "    <tr>\n",
       "      <th>16</th>\n",
       "      <td>DecisionTreeRegressor(max_depth=17)</td>\n",
       "      <td>17</td>\n",
       "      <td>0.080848</td>\n",
       "      <td>0.737745</td>\n",
       "    </tr>\n",
       "    <tr>\n",
       "      <th>17</th>\n",
       "      <td>DecisionTreeRegressor(max_depth=18)</td>\n",
       "      <td>18</td>\n",
       "      <td>0.063958</td>\n",
       "      <td>0.750960</td>\n",
       "    </tr>\n",
       "    <tr>\n",
       "      <th>18</th>\n",
       "      <td>DecisionTreeRegressor(max_depth=19)</td>\n",
       "      <td>19</td>\n",
       "      <td>0.046728</td>\n",
       "      <td>0.781984</td>\n",
       "    </tr>\n",
       "    <tr>\n",
       "      <th>19</th>\n",
       "      <td>DecisionTreeRegressor(max_depth=20)</td>\n",
       "      <td>20</td>\n",
       "      <td>0.033554</td>\n",
       "      <td>0.793819</td>\n",
       "    </tr>\n",
       "  </tbody>\n",
       "</table>\n",
       "</div>"
      ],
      "text/plain": [
       "                                  model  depth  train_error  test_error\n",
       "0    DecisionTreeRegressor(max_depth=1)      1     0.734203    0.719604\n",
       "1    DecisionTreeRegressor(max_depth=2)      2     0.549366    0.546348\n",
       "2    DecisionTreeRegressor(max_depth=3)      3     0.460825    0.470945\n",
       "3    DecisionTreeRegressor(max_depth=4)      4     0.435967    0.448742\n",
       "4    DecisionTreeRegressor(max_depth=5)      5     0.414601    0.434329\n",
       "5    DecisionTreeRegressor(max_depth=6)      6     0.397928    0.433328\n",
       "6    DecisionTreeRegressor(max_depth=7)      7     0.381929    0.439821\n",
       "7    DecisionTreeRegressor(max_depth=8)      8     0.362469    0.444440\n",
       "8    DecisionTreeRegressor(max_depth=9)      9     0.339345    0.445975\n",
       "9   DecisionTreeRegressor(max_depth=10)     10     0.310471    0.480573\n",
       "10  DecisionTreeRegressor(max_depth=11)     11     0.279415    0.523109\n",
       "11  DecisionTreeRegressor(max_depth=12)     12     0.242880    0.571701\n",
       "12  DecisionTreeRegressor(max_depth=13)     13     0.205886    0.615264\n",
       "13  DecisionTreeRegressor(max_depth=14)     14     0.170926    0.640899\n",
       "14  DecisionTreeRegressor(max_depth=15)     15     0.136992    0.672819\n",
       "15  DecisionTreeRegressor(max_depth=16)     16     0.106043    0.714045\n",
       "16  DecisionTreeRegressor(max_depth=17)     17     0.080848    0.737745\n",
       "17  DecisionTreeRegressor(max_depth=18)     18     0.063958    0.750960\n",
       "18  DecisionTreeRegressor(max_depth=19)     19     0.046728    0.781984\n",
       "19  DecisionTreeRegressor(max_depth=20)     20     0.033554    0.793819"
      ]
     },
     "execution_count": 85,
     "metadata": {},
     "output_type": "execute_result"
    }
   ],
   "source": [
    "results_df"
   ]
  },
  {
   "cell_type": "markdown",
   "id": "fd1547bd",
   "metadata": {},
   "source": [
    "### From the above table we can see that the optimal tree depth is 6, where the test error is at its minimum point"
   ]
  },
  {
   "cell_type": "markdown",
   "id": "c7b52eed",
   "metadata": {},
   "source": [
    "### Given that there are other hyperparameters we can adjust to train our models, let's find the optimal ones via Grid Search considering that the optimal depth is around 5 and 6"
   ]
  },
  {
   "cell_type": "code",
   "execution_count": 86,
   "id": "ede3cded",
   "metadata": {},
   "outputs": [],
   "source": [
    "from sklearn.model_selection import GridSearchCV"
   ]
  },
  {
   "cell_type": "code",
   "execution_count": 87,
   "id": "dabb8aa6",
   "metadata": {},
   "outputs": [],
   "source": [
    "gs = GridSearchCV(\n",
    "    estimator=DTR(),\n",
    "    param_grid={\n",
    "        \"max_depth\": [5, 6],\n",
    "        \"min_samples_split\": [50, 100, 300, 1000],\n",
    "        \"max_features\": [4, 6]\n",
    "    },\n",
    "    cv=5,\n",
    "    verbose=3,\n",
    "    scoring=\"neg_mean_squared_error\",\n",
    "    return_train_score=True\n",
    ")"
   ]
  },
  {
   "cell_type": "code",
   "execution_count": 88,
   "id": "160a2786",
   "metadata": {},
   "outputs": [
    {
     "name": "stdout",
     "output_type": "stream",
     "text": [
      "Fitting 5 folds for each of 16 candidates, totalling 80 fits\n",
      "[CV 1/5] END max_depth=5, max_features=4, min_samples_split=50;, score=(train=-0.432, test=-0.484) total time=   0.0s\n",
      "[CV 2/5] END max_depth=5, max_features=4, min_samples_split=50;, score=(train=-0.426, test=-0.454) total time=   0.0s\n",
      "[CV 3/5] END max_depth=5, max_features=4, min_samples_split=50;, score=(train=-0.519, test=-0.544) total time=   0.0s\n",
      "[CV 4/5] END max_depth=5, max_features=4, min_samples_split=50;, score=(train=-0.438, test=-0.450) total time=   0.0s\n",
      "[CV 5/5] END max_depth=5, max_features=4, min_samples_split=50;, score=(train=-0.543, test=-0.524) total time=   0.0s\n",
      "[CV 1/5] END max_depth=5, max_features=4, min_samples_split=100;, score=(train=-0.433, test=-0.460) total time=   0.0s\n",
      "[CV 2/5] END max_depth=5, max_features=4, min_samples_split=100;, score=(train=-0.593, test=-0.626) total time=   0.0s\n",
      "[CV 3/5] END max_depth=5, max_features=4, min_samples_split=100;, score=(train=-0.493, test=-0.512) total time=   0.0s\n",
      "[CV 4/5] END max_depth=5, max_features=4, min_samples_split=100;, score=(train=-0.541, test=-0.569) total time=   0.0s\n",
      "[CV 5/5] END max_depth=5, max_features=4, min_samples_split=100;, score=(train=-0.581, test=-0.566) total time=   0.0s\n",
      "[CV 1/5] END max_depth=5, max_features=4, min_samples_split=300;, score=(train=-0.472, test=-0.494) total time=   0.0s\n",
      "[CV 2/5] END max_depth=5, max_features=4, min_samples_split=300;, score=(train=-0.545, test=-0.575) total time=   0.0s\n",
      "[CV 3/5] END max_depth=5, max_features=4, min_samples_split=300;, score=(train=-0.499, test=-0.520) total time=   0.0s\n",
      "[CV 4/5] END max_depth=5, max_features=4, min_samples_split=300;, score=(train=-0.441, test=-0.455) total time=   0.0s\n",
      "[CV 5/5] END max_depth=5, max_features=4, min_samples_split=300;, score=(train=-0.453, test=-0.447) total time=   0.0s\n",
      "[CV 1/5] END max_depth=5, max_features=4, min_samples_split=1000;, score=(train=-0.459, test=-0.484) total time=   0.0s\n",
      "[CV 2/5] END max_depth=5, max_features=4, min_samples_split=1000;, score=(train=-0.431, test=-0.447) total time=   0.0s\n",
      "[CV 3/5] END max_depth=5, max_features=4, min_samples_split=1000;, score=(train=-0.444, test=-0.447) total time=   0.0s\n",
      "[CV 4/5] END max_depth=5, max_features=4, min_samples_split=1000;, score=(train=-0.484, test=-0.518) total time=   0.0s\n",
      "[CV 5/5] END max_depth=5, max_features=4, min_samples_split=1000;, score=(train=-0.528, test=-0.496) total time=   0.0s\n",
      "[CV 1/5] END max_depth=5, max_features=6, min_samples_split=50;, score=(train=-0.411, test=-0.459) total time=   0.0s\n",
      "[CV 2/5] END max_depth=5, max_features=6, min_samples_split=50;, score=(train=-0.414, test=-0.439) total time=   0.0s\n",
      "[CV 3/5] END max_depth=5, max_features=6, min_samples_split=50;, score=(train=-0.412, test=-0.440) total time=   0.0s\n",
      "[CV 4/5] END max_depth=5, max_features=6, min_samples_split=50;, score=(train=-0.413, test=-0.432) total time=   0.0s\n",
      "[CV 5/5] END max_depth=5, max_features=6, min_samples_split=50;, score=(train=-0.417, test=-0.413) total time=   0.0s\n",
      "[CV 1/5] END max_depth=5, max_features=6, min_samples_split=100;, score=(train=-0.415, test=-0.447) total time=   0.0s\n",
      "[CV 2/5] END max_depth=5, max_features=6, min_samples_split=100;, score=(train=-0.417, test=-0.434) total time=   0.0s\n",
      "[CV 3/5] END max_depth=5, max_features=6, min_samples_split=100;, score=(train=-0.415, test=-0.437) total time=   0.0s\n",
      "[CV 4/5] END max_depth=5, max_features=6, min_samples_split=100;, score=(train=-0.416, test=-0.434) total time=   0.0s\n",
      "[CV 5/5] END max_depth=5, max_features=6, min_samples_split=100;, score=(train=-0.421, test=-0.410) total time=   0.0s\n",
      "[CV 1/5] END max_depth=5, max_features=6, min_samples_split=300;, score=(train=-0.418, test=-0.449) total time=   0.0s\n",
      "[CV 2/5] END max_depth=5, max_features=6, min_samples_split=300;, score=(train=-0.420, test=-0.437) total time=   0.0s\n",
      "[CV 3/5] END max_depth=5, max_features=6, min_samples_split=300;, score=(train=-0.418, test=-0.438) total time=   0.0s\n",
      "[CV 4/5] END max_depth=5, max_features=6, min_samples_split=300;, score=(train=-0.419, test=-0.436) total time=   0.0s\n",
      "[CV 5/5] END max_depth=5, max_features=6, min_samples_split=300;, score=(train=-0.424, test=-0.414) total time=   0.0s\n",
      "[CV 1/5] END max_depth=5, max_features=6, min_samples_split=1000;, score=(train=-0.435, test=-0.464) total time=   0.0s\n",
      "[CV 2/5] END max_depth=5, max_features=6, min_samples_split=1000;, score=(train=-0.434, test=-0.453) total time=   0.0s\n",
      "[CV 3/5] END max_depth=5, max_features=6, min_samples_split=1000;, score=(train=-0.438, test=-0.440) total time=   0.0s\n",
      "[CV 4/5] END max_depth=5, max_features=6, min_samples_split=1000;, score=(train=-0.438, test=-0.449) total time=   0.0s\n",
      "[CV 5/5] END max_depth=5, max_features=6, min_samples_split=1000;, score=(train=-0.444, test=-0.424) total time=   0.0s\n",
      "[CV 1/5] END max_depth=6, max_features=4, min_samples_split=50;, score=(train=-0.403, test=-0.453) total time=   0.0s\n",
      "[CV 2/5] END max_depth=6, max_features=4, min_samples_split=50;, score=(train=-0.432, test=-0.461) total time=   0.0s\n",
      "[CV 3/5] END max_depth=6, max_features=4, min_samples_split=50;, score=(train=-0.440, test=-0.490) total time=   0.0s\n",
      "[CV 4/5] END max_depth=6, max_features=4, min_samples_split=50;, score=(train=-0.445, test=-0.471) total time=   0.0s\n",
      "[CV 5/5] END max_depth=6, max_features=4, min_samples_split=50;, score=(train=-0.452, test=-0.451) total time=   0.0s\n",
      "[CV 1/5] END max_depth=6, max_features=4, min_samples_split=100;, score=(train=-0.431, test=-0.474) total time=   0.0s\n",
      "[CV 2/5] END max_depth=6, max_features=4, min_samples_split=100;, score=(train=-0.417, test=-0.457) total time=   0.0s\n",
      "[CV 3/5] END max_depth=6, max_features=4, min_samples_split=100;, score=(train=-0.413, test=-0.450) total time=   0.0s\n",
      "[CV 4/5] END max_depth=6, max_features=4, min_samples_split=100;, score=(train=-0.411, test=-0.438) total time=   0.0s\n",
      "[CV 5/5] END max_depth=6, max_features=4, min_samples_split=100;, score=(train=-0.431, test=-0.424) total time=   0.0s\n",
      "[CV 1/5] END max_depth=6, max_features=4, min_samples_split=300;, score=(train=-0.430, test=-0.465) total time=   0.0s\n",
      "[CV 2/5] END max_depth=6, max_features=4, min_samples_split=300;, score=(train=-0.411, test=-0.434) total time=   0.0s\n",
      "[CV 3/5] END max_depth=6, max_features=4, min_samples_split=300;, score=(train=-0.445, test=-0.461) total time=   0.0s\n",
      "[CV 4/5] END max_depth=6, max_features=4, min_samples_split=300;, score=(train=-0.433, test=-0.450) total time=   0.0s\n",
      "[CV 5/5] END max_depth=6, max_features=4, min_samples_split=300;, score=(train=-0.420, test=-0.422) total time=   0.0s\n",
      "[CV 1/5] END max_depth=6, max_features=4, min_samples_split=1000;, score=(train=-0.431, test=-0.459) total time=   0.0s\n",
      "[CV 2/5] END max_depth=6, max_features=4, min_samples_split=1000;, score=(train=-0.487, test=-0.514) total time=   0.0s\n",
      "[CV 3/5] END max_depth=6, max_features=4, min_samples_split=1000;, score=(train=-0.437, test=-0.446) total time=   0.0s\n",
      "[CV 4/5] END max_depth=6, max_features=4, min_samples_split=1000;, score=(train=-0.435, test=-0.444) total time=   0.0s\n",
      "[CV 5/5] END max_depth=6, max_features=4, min_samples_split=1000;, score=(train=-0.583, test=-0.563) total time=   0.0s\n",
      "[CV 1/5] END max_depth=6, max_features=6, min_samples_split=50;, score=(train=-0.398, test=-0.453) total time=   0.0s\n",
      "[CV 2/5] END max_depth=6, max_features=6, min_samples_split=50;, score=(train=-0.397, test=-0.434) total time=   0.0s\n",
      "[CV 3/5] END max_depth=6, max_features=6, min_samples_split=50;, score=(train=-0.397, test=-0.439) total time=   0.0s\n",
      "[CV 4/5] END max_depth=6, max_features=6, min_samples_split=50;, score=(train=-0.400, test=-0.430) total time=   0.0s\n",
      "[CV 5/5] END max_depth=6, max_features=6, min_samples_split=50;, score=(train=-0.402, test=-0.413) total time=   0.0s\n",
      "[CV 1/5] END max_depth=6, max_features=6, min_samples_split=100;, score=(train=-0.403, test=-0.441) total time=   0.0s\n",
      "[CV 2/5] END max_depth=6, max_features=6, min_samples_split=100;, score=(train=-0.404, test=-0.428) total time=   0.0s\n",
      "[CV 3/5] END max_depth=6, max_features=6, min_samples_split=100;, score=(train=-0.402, test=-0.438) total time=   0.0s\n",
      "[CV 4/5] END max_depth=6, max_features=6, min_samples_split=100;, score=(train=-0.404, test=-0.432) total time=   0.0s\n",
      "[CV 5/5] END max_depth=6, max_features=6, min_samples_split=100;, score=(train=-0.409, test=-0.403) total time=   0.0s\n",
      "[CV 1/5] END max_depth=6, max_features=6, min_samples_split=300;, score=(train=-0.410, test=-0.441) total time=   0.0s\n",
      "[CV 2/5] END max_depth=6, max_features=6, min_samples_split=300;, score=(train=-0.410, test=-0.431) total time=   0.0s\n",
      "[CV 3/5] END max_depth=6, max_features=6, min_samples_split=300;, score=(train=-0.409, test=-0.434) total time=   0.0s\n",
      "[CV 4/5] END max_depth=6, max_features=6, min_samples_split=300;, score=(train=-0.411, test=-0.429) total time=   0.0s\n",
      "[CV 5/5] END max_depth=6, max_features=6, min_samples_split=300;, score=(train=-0.415, test=-0.407) total time=   0.0s\n",
      "[CV 1/5] END max_depth=6, max_features=6, min_samples_split=1000;, score=(train=-0.432, test=-0.459) total time=   0.0s\n",
      "[CV 2/5] END max_depth=6, max_features=6, min_samples_split=1000;, score=(train=-0.430, test=-0.450) total time=   0.0s\n"
     ]
    },
    {
     "name": "stdout",
     "output_type": "stream",
     "text": [
      "[CV 3/5] END max_depth=6, max_features=6, min_samples_split=1000;, score=(train=-0.433, test=-0.438) total time=   0.0s\n",
      "[CV 4/5] END max_depth=6, max_features=6, min_samples_split=1000;, score=(train=-0.434, test=-0.444) total time=   0.0s\n",
      "[CV 5/5] END max_depth=6, max_features=6, min_samples_split=1000;, score=(train=-0.438, test=-0.420) total time=   0.0s\n"
     ]
    },
    {
     "data": {
      "text/plain": [
       "GridSearchCV(cv=5, estimator=DecisionTreeRegressor(),\n",
       "             param_grid={'max_depth': [5, 6], 'max_features': [4, 6],\n",
       "                         'min_samples_split': [50, 100, 300, 1000]},\n",
       "             return_train_score=True, scoring='neg_mean_squared_error',\n",
       "             verbose=3)"
      ]
     },
     "execution_count": 88,
     "metadata": {},
     "output_type": "execute_result"
    }
   ],
   "source": [
    "gs.fit(X_train, y_train)"
   ]
  },
  {
   "cell_type": "markdown",
   "id": "08a119d1",
   "metadata": {},
   "source": [
    "### We sort by performance..."
   ]
  },
  {
   "cell_type": "code",
   "execution_count": 89,
   "id": "d917dec4",
   "metadata": {},
   "outputs": [],
   "source": [
    "grid_search_results = pd.DataFrame(gs.cv_results_)\n",
    "grid_search_results = grid_search_results[['param_max_depth', 'param_max_features', 'param_min_samples_split',\n",
    "       'mean_test_score', 'mean_train_score']]"
   ]
  },
  {
   "cell_type": "code",
   "execution_count": 90,
   "id": "d32df658",
   "metadata": {},
   "outputs": [
    {
     "data": {
      "text/html": [
       "<div>\n",
       "<style scoped>\n",
       "    .dataframe tbody tr th:only-of-type {\n",
       "        vertical-align: middle;\n",
       "    }\n",
       "\n",
       "    .dataframe tbody tr th {\n",
       "        vertical-align: top;\n",
       "    }\n",
       "\n",
       "    .dataframe thead th {\n",
       "        text-align: right;\n",
       "    }\n",
       "</style>\n",
       "<table border=\"1\" class=\"dataframe\">\n",
       "  <thead>\n",
       "    <tr style=\"text-align: right;\">\n",
       "      <th></th>\n",
       "      <th>param_max_depth</th>\n",
       "      <th>param_max_features</th>\n",
       "      <th>param_min_samples_split</th>\n",
       "      <th>mean_test_score</th>\n",
       "      <th>mean_train_score</th>\n",
       "    </tr>\n",
       "  </thead>\n",
       "  <tbody>\n",
       "    <tr>\n",
       "      <th>14</th>\n",
       "      <td>6</td>\n",
       "      <td>6</td>\n",
       "      <td>300</td>\n",
       "      <td>-0.428390</td>\n",
       "      <td>-0.410767</td>\n",
       "    </tr>\n",
       "    <tr>\n",
       "      <th>13</th>\n",
       "      <td>6</td>\n",
       "      <td>6</td>\n",
       "      <td>100</td>\n",
       "      <td>-0.428608</td>\n",
       "      <td>-0.404567</td>\n",
       "    </tr>\n",
       "    <tr>\n",
       "      <th>5</th>\n",
       "      <td>5</td>\n",
       "      <td>6</td>\n",
       "      <td>100</td>\n",
       "      <td>-0.432529</td>\n",
       "      <td>-0.416711</td>\n",
       "    </tr>\n",
       "    <tr>\n",
       "      <th>12</th>\n",
       "      <td>6</td>\n",
       "      <td>6</td>\n",
       "      <td>50</td>\n",
       "      <td>-0.433882</td>\n",
       "      <td>-0.398939</td>\n",
       "    </tr>\n",
       "    <tr>\n",
       "      <th>6</th>\n",
       "      <td>5</td>\n",
       "      <td>6</td>\n",
       "      <td>300</td>\n",
       "      <td>-0.434674</td>\n",
       "      <td>-0.419935</td>\n",
       "    </tr>\n",
       "    <tr>\n",
       "      <th>4</th>\n",
       "      <td>5</td>\n",
       "      <td>6</td>\n",
       "      <td>50</td>\n",
       "      <td>-0.436700</td>\n",
       "      <td>-0.413155</td>\n",
       "    </tr>\n",
       "    <tr>\n",
       "      <th>15</th>\n",
       "      <td>6</td>\n",
       "      <td>6</td>\n",
       "      <td>1000</td>\n",
       "      <td>-0.442364</td>\n",
       "      <td>-0.433387</td>\n",
       "    </tr>\n",
       "    <tr>\n",
       "      <th>7</th>\n",
       "      <td>5</td>\n",
       "      <td>6</td>\n",
       "      <td>1000</td>\n",
       "      <td>-0.446128</td>\n",
       "      <td>-0.437846</td>\n",
       "    </tr>\n",
       "    <tr>\n",
       "      <th>10</th>\n",
       "      <td>6</td>\n",
       "      <td>4</td>\n",
       "      <td>300</td>\n",
       "      <td>-0.446377</td>\n",
       "      <td>-0.427722</td>\n",
       "    </tr>\n",
       "    <tr>\n",
       "      <th>9</th>\n",
       "      <td>6</td>\n",
       "      <td>4</td>\n",
       "      <td>100</td>\n",
       "      <td>-0.448681</td>\n",
       "      <td>-0.420704</td>\n",
       "    </tr>\n",
       "  </tbody>\n",
       "</table>\n",
       "</div>"
      ],
      "text/plain": [
       "   param_max_depth param_max_features param_min_samples_split  \\\n",
       "14               6                  6                     300   \n",
       "13               6                  6                     100   \n",
       "5                5                  6                     100   \n",
       "12               6                  6                      50   \n",
       "6                5                  6                     300   \n",
       "4                5                  6                      50   \n",
       "15               6                  6                    1000   \n",
       "7                5                  6                    1000   \n",
       "10               6                  4                     300   \n",
       "9                6                  4                     100   \n",
       "\n",
       "    mean_test_score  mean_train_score  \n",
       "14        -0.428390         -0.410767  \n",
       "13        -0.428608         -0.404567  \n",
       "5         -0.432529         -0.416711  \n",
       "12        -0.433882         -0.398939  \n",
       "6         -0.434674         -0.419935  \n",
       "4         -0.436700         -0.413155  \n",
       "15        -0.442364         -0.433387  \n",
       "7         -0.446128         -0.437846  \n",
       "10        -0.446377         -0.427722  \n",
       "9         -0.448681         -0.420704  "
      ]
     },
     "execution_count": 90,
     "metadata": {},
     "output_type": "execute_result"
    }
   ],
   "source": [
    "grid_search_results.sort_values(\"mean_test_score\", ascending=False).head(10)"
   ]
  },
  {
   "cell_type": "markdown",
   "id": "6202b064",
   "metadata": {},
   "source": [
    "### Good news! We have been able to reduce a bit more the test error with the best model, let's pick it out"
   ]
  },
  {
   "cell_type": "code",
   "execution_count": 91,
   "id": "68a179d3",
   "metadata": {},
   "outputs": [],
   "source": [
    "best_tree = gs.best_estimator_"
   ]
  },
  {
   "cell_type": "code",
   "execution_count": 92,
   "id": "d655c99e",
   "metadata": {},
   "outputs": [
    {
     "data": {
      "text/plain": [
       "DecisionTreeRegressor(max_depth=6, max_features=6, min_samples_split=300)"
      ]
     },
     "execution_count": 92,
     "metadata": {},
     "output_type": "execute_result"
    }
   ],
   "source": [
    "best_tree"
   ]
  },
  {
   "cell_type": "code",
   "execution_count": 93,
   "id": "aa948e3d",
   "metadata": {},
   "outputs": [
    {
     "data": {
      "text/plain": [
       "0.4114596404087349"
      ]
     },
     "execution_count": 93,
     "metadata": {},
     "output_type": "execute_result"
    }
   ],
   "source": [
    "mean_squared_error(best_tree.predict(X_train), y_train)"
   ]
  },
  {
   "cell_type": "code",
   "execution_count": 94,
   "id": "e8af2f1c",
   "metadata": {},
   "outputs": [
    {
     "data": {
      "text/plain": [
       "0.43066250789893545"
      ]
     },
     "execution_count": 94,
     "metadata": {},
     "output_type": "execute_result"
    }
   ],
   "source": [
    "mean_squared_error(best_tree.predict(X_test), y_test)"
   ]
  },
  {
   "cell_type": "markdown",
   "id": "864ccf76",
   "metadata": {},
   "source": [
    "### Let's look at feature importance"
   ]
  },
  {
   "cell_type": "code",
   "execution_count": 96,
   "id": "91fccf4f",
   "metadata": {},
   "outputs": [],
   "source": [
    "feature_imp = pd.Series(best_tree.feature_importances_, index=startups.columns[:-1]).sort_values(ascending=False)"
   ]
  },
  {
   "cell_type": "code",
   "execution_count": 97,
   "id": "603db0f8",
   "metadata": {},
   "outputs": [
    {
     "data": {
      "text/plain": [
       "funding_total_usd                0.965371\n",
       "funding_rounds                   0.021741\n",
       "founded_year                     0.010059\n",
       "delta_founded_vs_firstfunding    0.002829\n",
       "log_valuation                    0.000000\n",
       "country_ranking                  0.000000\n",
       "dtype: float64"
      ]
     },
     "execution_count": 97,
     "metadata": {},
     "output_type": "execute_result"
    }
   ],
   "source": [
    "feature_imp"
   ]
  },
  {
   "cell_type": "markdown",
   "id": "6ddb3e51",
   "metadata": {},
   "source": [
    "### It is very clear that the most important feature is the total funding received followed by very far by the total number of rounds"
   ]
  },
  {
   "cell_type": "code",
   "execution_count": 99,
   "id": "641c93bf",
   "metadata": {},
   "outputs": [],
   "source": [
    "import seaborn as sns"
   ]
  },
  {
   "cell_type": "code",
   "execution_count": 100,
   "id": "32fdd1e7",
   "metadata": {},
   "outputs": [
    {
     "data": {
      "text/plain": [
       "<AxesSubplot:>"
      ]
     },
     "execution_count": 100,
     "metadata": {},
     "output_type": "execute_result"
    },
    {
     "data": {
      "image/png": "[encoded data removed]",
      "text/plain": [
       "<Figure size 432x288 with 1 Axes>"
      ]
     },
     "metadata": {
      "needs_background": "light"
     },
     "output_type": "display_data"
    }
   ],
   "source": [
    "sns.barplot(x=feature_imp.values, y=feature_imp.index)"
   ]
  },
  {
   "cell_type": "code",
   "execution_count": 102,
   "id": "953570bb",
   "metadata": {},
   "outputs": [
    {
     "data": {
      "image/png": "[encoded data removed]",
      "text/plain": [
       "<Figure size 1440x1440 with 1 Axes>"
      ]
     },
     "metadata": {
      "needs_background": "light"
     },
     "output_type": "display_data"
    }
   ],
   "source": [
    "fig = plt.figure(figsize=(20, 20))\n",
    "plot_tree(best_tree, feature_names=startups.columns[:-1], filled=True);"
   ]
  },
  {
   "cell_type": "code",
   "execution_count": 104,
   "id": "5d0d08d6",
   "metadata": {},
   "outputs": [],
   "source": [
    "fig.savefig(\"decision_besttree.svg\", facecolor=\"white\")"
   ]
  },
  {
   "cell_type": "markdown",
   "id": "6ed1ce4f",
   "metadata": {},
   "source": [
    "### Let's look at a Decision Tree Classifier and then at random forest and look at their f3 score"
   ]
  },
  {
   "cell_type": "code",
   "execution_count": 109,
   "id": "8ada5fee",
   "metadata": {},
   "outputs": [],
   "source": [
    "from sklearn.tree import DecisionTreeClassifier as DTC\n",
    "from sklearn.metrics import fbeta_score\n",
    "from sklearn.ensemble import RandomForestClassifier, GradientBoostingClassifier"
   ]
  },
  {
   "cell_type": "code",
   "execution_count": 110,
   "id": "70e73053",
   "metadata": {},
   "outputs": [],
   "source": [
    "tree_6 = DTC(max_depth=6)"
   ]
  },
  {
   "cell_type": "code",
   "execution_count": 111,
   "id": "0477581b",
   "metadata": {},
   "outputs": [
    {
     "data": {
      "text/plain": [
       "DecisionTreeClassifier(max_depth=6)"
      ]
     },
     "execution_count": 111,
     "metadata": {},
     "output_type": "execute_result"
    }
   ],
   "source": [
    "tree_6.fit(X_train, y_train)"
   ]
  },
  {
   "cell_type": "code",
   "execution_count": 144,
   "id": "82a46fe6",
   "metadata": {},
   "outputs": [],
   "source": [
    "tree_6_test_score = mean_squared_error(\n",
    "    tree_6.predict(X_test),\n",
    "    y_test\n",
    ")"
   ]
  },
  {
   "cell_type": "code",
   "execution_count": 145,
   "id": "16583bf9",
   "metadata": {},
   "outputs": [
    {
     "name": "stdout",
     "output_type": "stream",
     "text": [
      "The test score with decision tree is 0.467\n"
     ]
    }
   ],
   "source": [
    "print(f\"The test score with decision tree is {tree_6_test_score.round(3)}\")"
   ]
  },
  {
   "cell_type": "markdown",
   "id": "9ffe88c1",
   "metadata": {},
   "source": [
    "### Let's look at the random forest"
   ]
  },
  {
   "cell_type": "code",
   "execution_count": 125,
   "id": "37668379",
   "metadata": {},
   "outputs": [],
   "source": [
    "from sklearn.ensemble import RandomForestClassifier"
   ]
  },
  {
   "cell_type": "code",
   "execution_count": 126,
   "id": "2cc86bf8",
   "metadata": {},
   "outputs": [],
   "source": [
    "rf = RandomForestClassifier(n_estimators=200, max_depth=10, max_features=6)"
   ]
  },
  {
   "cell_type": "code",
   "execution_count": 127,
   "id": "7e6535c3",
   "metadata": {},
   "outputs": [
    {
     "data": {
      "text/plain": [
       "RandomForestClassifier(max_depth=10, max_features=6, n_estimators=200)"
      ]
     },
     "execution_count": 127,
     "metadata": {},
     "output_type": "execute_result"
    }
   ],
   "source": [
    "rf.fit(X_train, y_train)"
   ]
  },
  {
   "cell_type": "code",
   "execution_count": 146,
   "id": "a02b7ecf",
   "metadata": {},
   "outputs": [],
   "source": [
    "rf_test_score = mean_squared_error(\n",
    "    rf.predict(X_test),\n",
    "    y_test\n",
    ")"
   ]
  },
  {
   "cell_type": "code",
   "execution_count": 147,
   "id": "b543ba14",
   "metadata": {},
   "outputs": [
    {
     "name": "stdout",
     "output_type": "stream",
     "text": [
      "The test score with random forest is 0.469\n"
     ]
    }
   ],
   "source": [
    "print(f\"The test score with random forest is {rf_test_score.round(3)}\")"
   ]
  },
  {
   "cell_type": "markdown",
   "id": "75e5618c",
   "metadata": {},
   "source": [
    "### Let's look at applying GridSearchCV to random forest"
   ]
  },
  {
   "cell_type": "code",
   "execution_count": 148,
   "id": "c3a67da7",
   "metadata": {},
   "outputs": [],
   "source": [
    "parameters = {'bootstrap': [True, False],\n",
    " 'max_depth': [1, 2, 3, 4, 5, 6, 7, 10, 20, 40, None],\n",
    " 'max_features': ['auto', 'sqrt'],\n",
    " 'min_samples_leaf': [50, 100, 200, 500],\n",
    " 'min_samples_split': [100, 200, 400],\n",
    " 'n_estimators': [400, 600, 800]}"
   ]
  },
  {
   "cell_type": "code",
   "execution_count": 149,
   "id": "4081eca0",
   "metadata": {},
   "outputs": [],
   "source": [
    "from sklearn.model_selection import GridSearchCV"
   ]
  },
  {
   "cell_type": "code",
   "execution_count": 150,
   "id": "ccbfc919",
   "metadata": {},
   "outputs": [],
   "source": [
    "rfc = RandomForestClassifier()"
   ]
  },
  {
   "cell_type": "code",
   "execution_count": 152,
   "id": "fac7e750",
   "metadata": {},
   "outputs": [
    {
     "name": "stdout",
     "output_type": "stream",
     "text": [
      "Fitting 5 folds for each of 1584 candidates, totalling 7920 fits\n"
     ]
    },
    {
     "name": "stderr",
     "output_type": "stream",
     "text": [
      "/home/alvarogb/anaconda3/envs/ironhack/lib/python3.8/site-packages/sklearn/model_selection/_split.py:666: UserWarning: The least populated class in y has only 2 members, which is less than n_splits=5.\n",
      "  warnings.warn((\"The least populated class in y has only %d\"\n"
     ]
    },
    {
     "data": {
      "text/plain": [
       "GridSearchCV(estimator=RandomForestClassifier(),\n",
       "             param_grid={'bootstrap': [True, False],\n",
       "                         'max_depth': [1, 2, 3, 4, 5, 6, 7, 10, 20, 40, None],\n",
       "                         'max_features': ['auto', 'sqrt'],\n",
       "                         'min_samples_leaf': [50, 100, 200, 500],\n",
       "                         'min_samples_split': [100, 200, 400],\n",
       "                         'n_estimators': [400, 600, 800]},\n",
       "             verbose=1)"
      ]
     },
     "execution_count": 152,
     "metadata": {},
     "output_type": "execute_result"
    }
   ],
   "source": [
    "grid = GridSearchCV(rfc, parameters, verbose=1)\n",
    "grid.fit(X_train,y_train)"
   ]
  },
  {
   "cell_type": "code",
   "execution_count": 153,
   "id": "27f8a8b2",
   "metadata": {},
   "outputs": [
    {
     "name": "stdout",
     "output_type": "stream",
     "text": [
      "{'bootstrap': False, 'max_depth': 10, 'max_features': 'sqrt', 'min_samples_leaf': 50, 'min_samples_split': 100, 'n_estimators': 600}\n"
     ]
    }
   ],
   "source": [
    "print(grid.best_params_)"
   ]
  },
  {
   "cell_type": "code",
   "execution_count": 154,
   "id": "b83e55b4",
   "metadata": {},
   "outputs": [],
   "source": [
    "rfc_params = RandomForestClassifier(n_estimators =  600, bootstrap = False, max_depth = 10, max_features = 'sqrt', min_samples_leaf = 50, min_samples_split = 100 ) "
   ]
  },
  {
   "cell_type": "code",
   "execution_count": 155,
   "id": "ada16e00",
   "metadata": {},
   "outputs": [
    {
     "data": {
      "text/plain": [
       "RandomForestClassifier(bootstrap=False, max_depth=10, max_features='sqrt',\n",
       "                       min_samples_leaf=50, min_samples_split=100,\n",
       "                       n_estimators=600)"
      ]
     },
     "execution_count": 155,
     "metadata": {},
     "output_type": "execute_result"
    }
   ],
   "source": [
    "rfc_params.fit(X_train,y_train)"
   ]
  },
  {
   "cell_type": "code",
   "execution_count": 156,
   "id": "8cab528a",
   "metadata": {},
   "outputs": [],
   "source": [
    "y_pred_rfc = rfc_params.predict(X_test)"
   ]
  },
  {
   "cell_type": "code",
   "execution_count": 157,
   "id": "dab3d910",
   "metadata": {},
   "outputs": [],
   "source": [
    "rfc_best_test_score = mean_squared_error(\n",
    "    rfc_params.predict(X_test),\n",
    "    y_test\n",
    ")"
   ]
  },
  {
   "cell_type": "code",
   "execution_count": 159,
   "id": "e3939f76",
   "metadata": {},
   "outputs": [
    {
     "name": "stdout",
     "output_type": "stream",
     "text": [
      "The test score with random forest is 0.531\n"
     ]
    }
   ],
   "source": [
    "print(f\"The test score with random forest is {rfc_best_test_score.round(3)}\")"
   ]
  },
  {
   "cell_type": "markdown",
   "id": "993e3471",
   "metadata": {},
   "source": [
    "### The best model in terms of lower test MSE is the best_tree selected previously, let's save it down to use it in Streamlit"
   ]
  },
  {
   "cell_type": "code",
   "execution_count": 160,
   "id": "628497cf",
   "metadata": {},
   "outputs": [],
   "source": [
    "import pickle"
   ]
  },
  {
   "cell_type": "code",
   "execution_count": 162,
   "id": "9e662867",
   "metadata": {},
   "outputs": [],
   "source": [
    "pickle.dump(best_tree, open(\"Startup_model\", 'wb'))"
   ]
  },
  {
   "cell_type": "markdown",
   "id": "4ffdf4dd",
   "metadata": {},
   "source": [
    "### Let's try loading it and predicting to check it works"
   ]
  },
  {
   "cell_type": "code",
   "execution_count": 163,
   "id": "abc3f89b",
   "metadata": {},
   "outputs": [],
   "source": [
    "loaded_model = pickle.load(open(\"Startup_model\", 'rb'))"
   ]
  },
  {
   "cell_type": "code",
   "execution_count": 164,
   "id": "97635f40",
   "metadata": {},
   "outputs": [
    {
     "data": {
      "text/plain": [
       "array([5.79574468, 7.11308068, 5.25492468, 6.14506173, 7.11308068,\n",
       "       7.70580561, 7.68      , 6.12153236, 6.64435146, 7.44495413,\n",
       "       6.12153236, 8.08173913, 7.31325301, 8.08173913, 7.27992634,\n",
       "       7.39839572, 7.31325301, 6.14506173, 6.76811594, 8.08173913,\n",
       "       7.70580561, 7.39839572, 7.70580561, 5.25492468, 7.11308068])"
      ]
     },
     "execution_count": 164,
     "metadata": {},
     "output_type": "execute_result"
    }
   ],
   "source": [
    "loaded_model.predict(X_test)[:25]"
   ]
  },
  {
   "cell_type": "markdown",
   "id": "d10e199a",
   "metadata": {},
   "source": [
    "### We are done here, now, we will use it to import in our streamlit file in order to predict valuation based on user input"
   ]
  },
  {
   "cell_type": "code",
   "execution_count": 166,
   "id": "8ec10165",
   "metadata": {},
   "outputs": [
    {
     "data": {
      "text/plain": [
       "funding_total_usd                  int64\n",
       "funding_rounds                   float64\n",
       "founded_year                     float64\n",
       "delta_founded_vs_firstfunding    float64\n",
       "log_valuation                    float64\n",
       "country_ranking                    int64\n",
       "market_ranking                     int64\n",
       "dtype: object"
      ]
     },
     "execution_count": 166,
     "metadata": {},
     "output_type": "execute_result"
    }
   ],
   "source": [
    "startups.dtypes"
   ]
  }
 ],
 "metadata": {
  "kernelspec": {
   "display_name": "ironhack",
   "language": "python",
   "name": "ironhack"
  },
  "language_info": {
   "codemirror_mode": {
    "name": "ipython",
    "version": 3
   },
   "file_extension": ".py",
   "mimetype": "text/x-python",
   "name": "python",
   "nbconvert_exporter": "python",
   "pygments_lexer": "ipython3",
   "version": "3.8.10"
  }
 },
 "nbformat": 4,
 "nbformat_minor": 5
}
